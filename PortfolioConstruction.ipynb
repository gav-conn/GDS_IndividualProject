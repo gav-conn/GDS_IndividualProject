{
 "cells": [
  {
   "cell_type": "code",
   "execution_count": 105,
   "metadata": {},
   "outputs": [],
   "source": [
    "import pandas as pd\n",
    "from pypfopt.efficient_frontier import EfficientFrontier\n",
    "from pypfopt import objective_functions\n",
    "from pypfopt import expected_returns\n",
    "from pypfopt import CovarianceShrinkage\n",
    "from pypfopt.expected_returns import mean_historical_return\n",
    "from sqlalchemy import create_engine\n",
    "import numpy as np\n",
    "import sklearn as sk"
   ]
  },
  {
   "cell_type": "code",
   "execution_count": 113,
   "metadata": {},
   "outputs": [],
   "source": [
    "engine = create_engine('sqlite:///GDS_IndividualProject.db', echo=False)\n",
    "\n",
    "df_sample = pd.read_sql_table('sample', con=engine, index_col='Date')\n",
    "df_mkt_cap = pd.read_sql_table('market_cap', con=engine, index_col='Date')\n",
    "df_sector = pd.read_sql_table('sectors', con=engine)\n",
    "df_emissions = pd.read_sql_table('emissions', con=engine)\n",
    "df_esg = pd.read_sql_table('esg', con=engine)"
   ]
  },
  {
   "cell_type": "code",
   "execution_count": 114,
   "metadata": {},
   "outputs": [],
   "source": [
    "for column in df_sample.columns:\n",
    "    df_sample[[column]] = df_sample[[column]].apply(\n",
    "        lambda x: np.where(x.isnull(), x.dropna().sample(len(x), replace=True, random_state=123), x))"
   ]
  },
  {
   "cell_type": "code",
   "execution_count": 185,
   "metadata": {},
   "outputs": [],
   "source": [
    "df_benchmark_weights = (df_mkt_cap/(df_mkt_cap.sum(axis=1).values.reshape(-1,1))).tail(1).values\n",
    "benchmark_returns = pd.DataFrame((df_benchmark_weights*df_sample).sum(axis=1), columns=['Benchmark Returns'])"
   ]
  },
  {
   "cell_type": "code",
   "execution_count": 184,
   "metadata": {},
   "outputs": [
    {
     "data": {
      "text/plain": [
       "Benchmark Returns    0.165324\n",
       "dtype: float64"
      ]
     },
     "execution_count": 184,
     "metadata": {},
     "output_type": "execute_result"
    }
   ],
   "source": [
    "mean_historical_return(benchmark_returns, returns_data=True, frequency=12)"
   ]
  },
  {
   "cell_type": "code",
   "execution_count": 186,
   "metadata": {},
   "outputs": [],
   "source": [
    "mu = mean_historical_return(df_sample, frequency=12, returns_data=True)\n",
    "S = sk.covariance.LedoitWolf(assume_centered=False).fit(df_sample).covariance_"
   ]
  },
  {
   "cell_type": "code",
   "execution_count": 187,
   "metadata": {},
   "outputs": [],
   "source": [
    "ef = EfficientFrontier(mu, S, weight_bounds=(0, 1))\n",
    "weights = ef.max_sharpe()"
   ]
  },
  {
   "cell_type": "code",
   "execution_count": 188,
   "metadata": {},
   "outputs": [
    {
     "data": {
      "text/html": [
       "<div>\n",
       "<style scoped>\n",
       "    .dataframe tbody tr th:only-of-type {\n",
       "        vertical-align: middle;\n",
       "    }\n",
       "\n",
       "    .dataframe tbody tr th {\n",
       "        vertical-align: top;\n",
       "    }\n",
       "\n",
       "    .dataframe thead th {\n",
       "        text-align: right;\n",
       "    }\n",
       "</style>\n",
       "<table border=\"1\" class=\"dataframe\">\n",
       "  <thead>\n",
       "    <tr style=\"text-align: right;\">\n",
       "      <th></th>\n",
       "      <th>Weight</th>\n",
       "    </tr>\n",
       "  </thead>\n",
       "  <tbody>\n",
       "    <tr>\n",
       "      <th>CHK.O</th>\n",
       "      <td>0.271608</td>\n",
       "    </tr>\n",
       "    <tr>\n",
       "      <th>OTIS.K</th>\n",
       "      <td>0.219058</td>\n",
       "    </tr>\n",
       "    <tr>\n",
       "      <th>BAH</th>\n",
       "      <td>0.105264</td>\n",
       "    </tr>\n",
       "    <tr>\n",
       "      <th>PGR</th>\n",
       "      <td>0.103398</td>\n",
       "    </tr>\n",
       "    <tr>\n",
       "      <th>CTVA.K</th>\n",
       "      <td>0.089192</td>\n",
       "    </tr>\n",
       "    <tr>\n",
       "      <th>PWR</th>\n",
       "      <td>0.061907</td>\n",
       "    </tr>\n",
       "    <tr>\n",
       "      <th>RLI</th>\n",
       "      <td>0.036290</td>\n",
       "    </tr>\n",
       "    <tr>\n",
       "      <th>ABT</th>\n",
       "      <td>0.036190</td>\n",
       "    </tr>\n",
       "    <tr>\n",
       "      <th>WK</th>\n",
       "      <td>0.033117</td>\n",
       "    </tr>\n",
       "    <tr>\n",
       "      <th>ETSY.O</th>\n",
       "      <td>0.024484</td>\n",
       "    </tr>\n",
       "    <tr>\n",
       "      <th>RGEN.O</th>\n",
       "      <td>0.019493</td>\n",
       "    </tr>\n",
       "  </tbody>\n",
       "</table>\n",
       "</div>"
      ],
      "text/plain": [
       "          Weight\n",
       "CHK.O   0.271608\n",
       "OTIS.K  0.219058\n",
       "BAH     0.105264\n",
       "PGR     0.103398\n",
       "CTVA.K  0.089192\n",
       "PWR     0.061907\n",
       "RLI     0.036290\n",
       "ABT     0.036190\n",
       "WK      0.033117\n",
       "ETSY.O  0.024484\n",
       "RGEN.O  0.019493"
      ]
     },
     "execution_count": 188,
     "metadata": {},
     "output_type": "execute_result"
    }
   ],
   "source": [
    "df_weights = pd.DataFrame(weights,index=['Weight']).T.sort_values(by='Weight', ascending=False)\n",
    "df_weights[df_weights['Weight']>0]"
   ]
  },
  {
   "cell_type": "code",
   "execution_count": null,
   "metadata": {},
   "outputs": [
    {
     "data": {
      "text/plain": [
       "Date\n",
       "2017-12    73.030524\n",
       "2018-01    72.163586\n",
       "2018-02    70.151479\n",
       "2018-03    69.973479\n",
       "2018-04    69.948099\n",
       "             ...    \n",
       "2022-08    44.470038\n",
       "2022-09    44.031863\n",
       "2022-10    44.423537\n",
       "2022-11    45.690087\n",
       "2022-12    45.275235\n",
       "Length: 61, dtype: float64"
      ]
     },
     "metadata": {},
     "output_type": "display_data"
    }
   ],
   "source": [
    "carbon_intensity = df_emissions.loc[df_emissions['RIC'].isin(random_RIC)].sort_values(by='RIC')['Carbon Intensity']\n",
    "(df_benchmark_weights*carbon_intensity.values).sum(axis=1)"
   ]
  },
  {
   "cell_type": "code",
   "execution_count": null,
   "metadata": {},
   "outputs": [],
   "source": [
    "ef_constrained1 = EfficientFrontier(mu, S, weight_bounds=(0, 1))\n",
    "\n",
    "ef_constrained1.add_objective(objective_functions.ex_post_tracking_error)\n",
    "ef_constrained1.add_constraint(lambda x : x >= 0.01)"
   ]
  }
 ],
 "metadata": {
  "kernelspec": {
   "display_name": "base",
   "language": "python",
   "name": "python3"
  },
  "language_info": {
   "codemirror_mode": {
    "name": "ipython",
    "version": 3
   },
   "file_extension": ".py",
   "mimetype": "text/x-python",
   "name": "python",
   "nbconvert_exporter": "python",
   "pygments_lexer": "ipython3",
   "version": "3.10.12"
  },
  "orig_nbformat": 4
 },
 "nbformat": 4,
 "nbformat_minor": 2
}
