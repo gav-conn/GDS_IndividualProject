{
 "cells": [
  {
   "cell_type": "code",
   "execution_count": 1,
   "metadata": {},
   "outputs": [],
   "source": [
    "import pandas as pd\n",
    "from pypfopt.efficient_frontier import EfficientFrontier\n",
    "from pypfopt import objective_functions\n",
    "from pypfopt import risk_models\n",
    "from pypfopt import expected_returns\n",
    "from pypfopt import CovarianceShrinkage\n",
    "from pypfopt.expected_returns import mean_historical_return\n",
    "from sqlalchemy import create_engine\n",
    "import numpy as np\n",
    "import cvxpy as cp"
   ]
  },
  {
   "cell_type": "markdown",
   "metadata": {},
   "source": [
    "#### Import Data & Initial Description"
   ]
  },
  {
   "cell_type": "code",
   "execution_count": 2,
   "metadata": {},
   "outputs": [],
   "source": [
    "engine = create_engine('sqlite:///GDS_IndividualProject.db', echo=False)\n",
    "\n",
    "df_sample = pd.read_sql_table('sample', con=engine, index_col='Date')\n",
    "df_mkt_cap = pd.read_sql_table('market_cap', con=engine, index_col='Date')\n",
    "df_sector = pd.read_sql_table('sectors', con=engine)\n",
    "df_emissions = pd.read_sql_table('emissions', con=engine)\n",
    "df_esg = pd.read_sql_table('esg', con=engine)"
   ]
  },
  {
   "cell_type": "code",
   "execution_count": 3,
   "metadata": {},
   "outputs": [
    {
     "data": {
      "text/html": [
       "<div>\n",
       "<style scoped>\n",
       "    .dataframe tbody tr th:only-of-type {\n",
       "        vertical-align: middle;\n",
       "    }\n",
       "\n",
       "    .dataframe tbody tr th {\n",
       "        vertical-align: top;\n",
       "    }\n",
       "\n",
       "    .dataframe thead th {\n",
       "        text-align: right;\n",
       "    }\n",
       "</style>\n",
       "<table border=\"1\" class=\"dataframe\">\n",
       "  <thead>\n",
       "    <tr style=\"text-align: right;\">\n",
       "      <th></th>\n",
       "      <th>RIC</th>\n",
       "      <th>Total Revenue</th>\n",
       "      <th>CO2 Equivalent Emissions Direct, Scope 1</th>\n",
       "      <th>CO2 Equivalent Emissions Indirect, Scope 2</th>\n",
       "      <th>Carbon Intensity</th>\n",
       "    </tr>\n",
       "  </thead>\n",
       "  <tbody>\n",
       "    <tr>\n",
       "      <th>0</th>\n",
       "      <td>AA</td>\n",
       "      <td>12451000000</td>\n",
       "      <td>1.740000e+07</td>\n",
       "      <td>4400000.000</td>\n",
       "      <td>1750.863384</td>\n",
       "    </tr>\n",
       "    <tr>\n",
       "      <th>1</th>\n",
       "      <td>AXP</td>\n",
       "      <td>54389000000</td>\n",
       "      <td>1.794400e+04</td>\n",
       "      <td>80275.000</td>\n",
       "      <td>1.805861</td>\n",
       "    </tr>\n",
       "    <tr>\n",
       "      <th>2</th>\n",
       "      <td>BA</td>\n",
       "      <td>66608000000</td>\n",
       "      <td>6.120000e+05</td>\n",
       "      <td>756000.000</td>\n",
       "      <td>20.538074</td>\n",
       "    </tr>\n",
       "    <tr>\n",
       "      <th>3</th>\n",
       "      <td>PEP.O</td>\n",
       "      <td>86392000000</td>\n",
       "      <td>3.596712e+06</td>\n",
       "      <td>1811114.000</td>\n",
       "      <td>62.596375</td>\n",
       "    </tr>\n",
       "    <tr>\n",
       "      <th>4</th>\n",
       "      <td>CAT</td>\n",
       "      <td>59427000000</td>\n",
       "      <td>7.400000e+05</td>\n",
       "      <td>800000.000</td>\n",
       "      <td>25.914147</td>\n",
       "    </tr>\n",
       "    <tr>\n",
       "      <th>...</th>\n",
       "      <td>...</td>\n",
       "      <td>...</td>\n",
       "      <td>...</td>\n",
       "      <td>...</td>\n",
       "      <td>...</td>\n",
       "    </tr>\n",
       "    <tr>\n",
       "      <th>1035</th>\n",
       "      <td>IR</td>\n",
       "      <td>5916300000</td>\n",
       "      <td>3.599900e+04</td>\n",
       "      <td>58812.000</td>\n",
       "      <td>16.025387</td>\n",
       "    </tr>\n",
       "    <tr>\n",
       "      <th>1036</th>\n",
       "      <td>FANG.O</td>\n",
       "      <td>9643000000</td>\n",
       "      <td>1.252665e+06</td>\n",
       "      <td>528224.000</td>\n",
       "      <td>184.682049</td>\n",
       "    </tr>\n",
       "    <tr>\n",
       "      <th>1037</th>\n",
       "      <td>DBX.O</td>\n",
       "      <td>2324900000</td>\n",
       "      <td>1.053000e+03</td>\n",
       "      <td>37106.000</td>\n",
       "      <td>16.413179</td>\n",
       "    </tr>\n",
       "    <tr>\n",
       "      <th>1038</th>\n",
       "      <td>TROX.K</td>\n",
       "      <td>3454000000</td>\n",
       "      <td>2.400000e+06</td>\n",
       "      <td>2000000.000</td>\n",
       "      <td>1273.885350</td>\n",
       "    </tr>\n",
       "    <tr>\n",
       "      <th>1039</th>\n",
       "      <td>USFD.K</td>\n",
       "      <td>34057000000</td>\n",
       "      <td>5.914164e+05</td>\n",
       "      <td>155365.829</td>\n",
       "      <td>21.927422</td>\n",
       "    </tr>\n",
       "  </tbody>\n",
       "</table>\n",
       "<p>1040 rows × 5 columns</p>\n",
       "</div>"
      ],
      "text/plain": [
       "         RIC  Total Revenue  CO2 Equivalent Emissions Direct, Scope 1  \\\n",
       "0         AA    12451000000                              1.740000e+07   \n",
       "1        AXP    54389000000                              1.794400e+04   \n",
       "2         BA    66608000000                              6.120000e+05   \n",
       "3      PEP.O    86392000000                              3.596712e+06   \n",
       "4        CAT    59427000000                              7.400000e+05   \n",
       "...      ...            ...                                       ...   \n",
       "1035      IR     5916300000                              3.599900e+04   \n",
       "1036  FANG.O     9643000000                              1.252665e+06   \n",
       "1037   DBX.O     2324900000                              1.053000e+03   \n",
       "1038  TROX.K     3454000000                              2.400000e+06   \n",
       "1039  USFD.K    34057000000                              5.914164e+05   \n",
       "\n",
       "      CO2 Equivalent Emissions Indirect, Scope 2  Carbon Intensity  \n",
       "0                                    4400000.000       1750.863384  \n",
       "1                                      80275.000          1.805861  \n",
       "2                                     756000.000         20.538074  \n",
       "3                                    1811114.000         62.596375  \n",
       "4                                     800000.000         25.914147  \n",
       "...                                          ...               ...  \n",
       "1035                                   58812.000         16.025387  \n",
       "1036                                  528224.000        184.682049  \n",
       "1037                                   37106.000         16.413179  \n",
       "1038                                 2000000.000       1273.885350  \n",
       "1039                                  155365.829         21.927422  \n",
       "\n",
       "[1040 rows x 5 columns]"
      ]
     },
     "execution_count": 3,
     "metadata": {},
     "output_type": "execute_result"
    }
   ],
   "source": [
    "df_emissions"
   ]
  },
  {
   "cell_type": "code",
   "execution_count": 4,
   "metadata": {},
   "outputs": [],
   "source": [
    "df_sample.drop('2017-12', inplace=True) # Returns data so drop 1st row\n",
    "\n",
    "df_sector = df_sector.sort_values('Instrument')\n",
    "\n",
    "df_emissions = df_emissions.loc[df_emissions['RIC'].isin(df_sample.columns.to_list())].sort_values('RIC').reset_index(drop=True)\n",
    "df_esg = df_esg.loc[df_esg['RIC'].isin(df_sample.columns.to_list())].sort_values('RIC').reset_index(drop=True)\n",
    "\n",
    "df_emission_scores = df_emissions[['RIC', 'Carbon Intensity']].merge(df_esg, on='RIC', how='outer')"
   ]
  },
  {
   "cell_type": "code",
   "execution_count": 99,
   "metadata": {},
   "outputs": [],
   "source": [
    "df_sector_count = df_sector.groupby('TRBC Economic Sector Name').count().sort_values('Instrument', ascending=False)"
   ]
  },
  {
   "cell_type": "code",
   "execution_count": 102,
   "metadata": {},
   "outputs": [],
   "source": [
    "df_sector_mc = (df_mkt_cap.tail(1).T).merge(df_sector, left_index=True, right_on='Instrument').drop(\n",
    "    'Instrument', axis=1).rename(columns={'2022-12': 'Market Cap'})\n",
    "df_sector_mc = (df_sector_mc.groupby('TRBC Economic Sector Name').sum().sort_values('Market Cap', ascending=False))/10**9\n",
    "df_sector_mc['Market Cap Proportion'] = df_sector_mc['Market Cap'] / df_sector_mc['Market Cap'].sum()*100"
   ]
  },
  {
   "cell_type": "code",
   "execution_count": 108,
   "metadata": {},
   "outputs": [
    {
     "name": "stdout",
     "output_type": "stream",
     "text": [
      "\\begin{tabular}{lrrr}\n",
      " & Count & Market Cap (USD Billions) & Market Cap Proportion \\\\\n",
      "TRBC Economic Sector Name &  &  &  \\\\\n",
      "Industrials & 19 & 380.10 & 14.61% \\\\\n",
      "Technology & 16 & 695.07 & 26.72% \\\\\n",
      "Consumer Cyclicals & 14 & 239.70 & 9.22% \\\\\n",
      "Basic Materials & 10 & 123.36 & 4.74% \\\\\n",
      "Energy & 10 & 88.29 & 3.39% \\\\\n",
      "Real Estate & 10 & 106.55 & 4.10% \\\\\n",
      "Healthcare & 9 & 406.89 & 15.64% \\\\\n",
      "Financials & 6 & 134.97 & 5.19% \\\\\n",
      "Consumer Non-Cyclicals & 4 & 393.71 & 15.14% \\\\\n",
      "Utilities & 2 & 32.46 & 1.25% \\\\\n",
      "\\end{tabular}\n",
      "\n"
     ]
    }
   ],
   "source": [
    "df_desc = df_sector_count.merge(df_sector_mc, left_index=True, right_index=True).rename(\n",
    "    columns={'Instrument': 'Count', 'Market Cap': 'Market Cap (USD Billions)'})\n",
    "\n",
    "df_desc = df_desc.style.format({\n",
    "    'Market Cap (USD Billions)': '{:,.2f}'.format,\n",
    "    'Market Cap Proportion': '{:,.2f}%'.format,\n",
    "})\n",
    "\n",
    "print(df_desc.to_latex())"
   ]
  },
  {
   "cell_type": "code",
   "execution_count": 5,
   "metadata": {},
   "outputs": [],
   "source": [
    "# Bootstrap to fill missing values\n",
    "for column in df_sample.columns:\n",
    "    df_sample[[column]] = df_sample[[column]].apply(\n",
    "        lambda x: np.where(x.isnull(), x.dropna().sample(len(x), replace=True, random_state=123), x))"
   ]
  },
  {
   "cell_type": "markdown",
   "metadata": {},
   "source": [
    "#### Benchmark Portfolio"
   ]
  },
  {
   "cell_type": "code",
   "execution_count": 6,
   "metadata": {},
   "outputs": [],
   "source": [
    "benchmark_weights = (df_mkt_cap/(df_mkt_cap.sum(axis=1).values.reshape(-1,1))).tail(1).T.rename(columns={'2022-12': 'Weight'})\n",
    "benchmark_returns = pd.DataFrame((benchmark_weights['Weight'].values*df_sample).sum(axis=1), columns=['Benchmark Returns'])"
   ]
  },
  {
   "cell_type": "code",
   "execution_count": 7,
   "metadata": {},
   "outputs": [
    {
     "data": {
      "text/html": [
       "<div>\n",
       "<style scoped>\n",
       "    .dataframe tbody tr th:only-of-type {\n",
       "        vertical-align: middle;\n",
       "    }\n",
       "\n",
       "    .dataframe tbody tr th {\n",
       "        vertical-align: top;\n",
       "    }\n",
       "\n",
       "    .dataframe thead th {\n",
       "        text-align: right;\n",
       "    }\n",
       "</style>\n",
       "<table border=\"1\" class=\"dataframe\">\n",
       "  <thead>\n",
       "    <tr style=\"text-align: right;\">\n",
       "      <th>Date</th>\n",
       "      <th>Weight</th>\n",
       "    </tr>\n",
       "  </thead>\n",
       "  <tbody>\n",
       "    <tr>\n",
       "      <th>ABM</th>\n",
       "      <td>0.001120</td>\n",
       "    </tr>\n",
       "    <tr>\n",
       "      <th>ABT</th>\n",
       "      <td>0.073595</td>\n",
       "    </tr>\n",
       "    <tr>\n",
       "      <th>ACN</th>\n",
       "      <td>0.067542</td>\n",
       "    </tr>\n",
       "    <tr>\n",
       "      <th>ADBE.O</th>\n",
       "      <td>0.060149</td>\n",
       "    </tr>\n",
       "    <tr>\n",
       "      <th>AFL</th>\n",
       "      <td>0.017197</td>\n",
       "    </tr>\n",
       "    <tr>\n",
       "      <th>...</th>\n",
       "      <td>...</td>\n",
       "    </tr>\n",
       "    <tr>\n",
       "      <th>WDAY.O</th>\n",
       "      <td>0.016533</td>\n",
       "    </tr>\n",
       "    <tr>\n",
       "      <th>WK</th>\n",
       "      <td>0.001696</td>\n",
       "    </tr>\n",
       "    <tr>\n",
       "      <th>WMT</th>\n",
       "      <td>0.147007</td>\n",
       "    </tr>\n",
       "    <tr>\n",
       "      <th>ZBRA.O</th>\n",
       "      <td>0.005090</td>\n",
       "    </tr>\n",
       "    <tr>\n",
       "      <th>ZS.O</th>\n",
       "      <td>0.006204</td>\n",
       "    </tr>\n",
       "  </tbody>\n",
       "</table>\n",
       "<p>100 rows × 1 columns</p>\n",
       "</div>"
      ],
      "text/plain": [
       "Date      Weight\n",
       "ABM     0.001120\n",
       "ABT     0.073595\n",
       "ACN     0.067542\n",
       "ADBE.O  0.060149\n",
       "AFL     0.017197\n",
       "...          ...\n",
       "WDAY.O  0.016533\n",
       "WK      0.001696\n",
       "WMT     0.147007\n",
       "ZBRA.O  0.005090\n",
       "ZS.O    0.006204\n",
       "\n",
       "[100 rows x 1 columns]"
      ]
     },
     "execution_count": 7,
     "metadata": {},
     "output_type": "execute_result"
    }
   ],
   "source": [
    "benchmark_weights"
   ]
  },
  {
   "cell_type": "code",
   "execution_count": 8,
   "metadata": {},
   "outputs": [],
   "source": [
    "mu_benchmark_monthly = benchmark_returns.mean().values[0]\n",
    "mu_benchmark_annual = (1+mu_benchmark_monthly)**12-1\n",
    "\n",
    "sigma_sq = benchmark_returns.var(ddof=1).values[0]\n",
    "sigma_benchmark_monthly = benchmark_returns.std(ddof=1).values[0]\n",
    "sigma_benchmark_annual = sigma_benchmark_monthly*np.sqrt(12)\n",
    "\n",
    "sr_benchmark = mu_benchmark_monthly/sigma_benchmark_monthly*np.sqrt(12)\n",
    "\n",
    "num_inv_benchmark = np.sum(benchmark_weights.values>0)\n",
    "num_sectors_benchmark = df_sector.merge(benchmark_weights.loc[benchmark_weights['Weight']>0], \n",
    "                                        left_on='Instrument', right_index=True)['TRBC Economic Sector Name'].nunique()"
   ]
  },
  {
   "cell_type": "code",
   "execution_count": 9,
   "metadata": {},
   "outputs": [],
   "source": [
    "benchmark_emissions = (benchmark_weights['Weight'].values*df_emission_scores.drop(columns=['RIC']).T).sum(1)"
   ]
  },
  {
   "cell_type": "code",
   "execution_count": 10,
   "metadata": {},
   "outputs": [],
   "source": [
    "benchmark_sector_weights = benchmark_weights.merge(df_sector, left_index=True, right_on='Instrument').groupby('TRBC Economic Sector Name')['Weight'].sum()"
   ]
  },
  {
   "attachments": {},
   "cell_type": "markdown",
   "metadata": {},
   "source": [
    "#### Mean-variance portfolio"
   ]
  },
  {
   "cell_type": "code",
   "execution_count": 11,
   "metadata": {},
   "outputs": [],
   "source": [
    "mu = mean_historical_return(df_sample, frequency=12, returns_data=True)\n",
    "S = risk_models.risk_matrix(df_sample, method='ledoit_wolf', returns_data=True)"
   ]
  },
  {
   "cell_type": "code",
   "execution_count": 12,
   "metadata": {},
   "outputs": [],
   "source": [
    "ef = EfficientFrontier(mu, S, weight_bounds=(0, 1))\n",
    "weights = ef.max_sharpe()"
   ]
  },
  {
   "cell_type": "code",
   "execution_count": 13,
   "metadata": {},
   "outputs": [
    {
     "data": {
      "text/html": [
       "<div>\n",
       "<style scoped>\n",
       "    .dataframe tbody tr th:only-of-type {\n",
       "        vertical-align: middle;\n",
       "    }\n",
       "\n",
       "    .dataframe tbody tr th {\n",
       "        vertical-align: top;\n",
       "    }\n",
       "\n",
       "    .dataframe thead th {\n",
       "        text-align: right;\n",
       "    }\n",
       "</style>\n",
       "<table border=\"1\" class=\"dataframe\">\n",
       "  <thead>\n",
       "    <tr style=\"text-align: right;\">\n",
       "      <th></th>\n",
       "      <th>Weight</th>\n",
       "    </tr>\n",
       "  </thead>\n",
       "  <tbody>\n",
       "    <tr>\n",
       "      <th>CHK.O</th>\n",
       "      <td>0.288261</td>\n",
       "    </tr>\n",
       "    <tr>\n",
       "      <th>OTIS.K</th>\n",
       "      <td>0.236868</td>\n",
       "    </tr>\n",
       "    <tr>\n",
       "      <th>PWR</th>\n",
       "      <td>0.144904</td>\n",
       "    </tr>\n",
       "    <tr>\n",
       "      <th>CTVA.K</th>\n",
       "      <td>0.066873</td>\n",
       "    </tr>\n",
       "    <tr>\n",
       "      <th>BAH</th>\n",
       "      <td>0.063239</td>\n",
       "    </tr>\n",
       "    <tr>\n",
       "      <th>PGR</th>\n",
       "      <td>0.045470</td>\n",
       "    </tr>\n",
       "    <tr>\n",
       "      <th>RLI</th>\n",
       "      <td>0.035040</td>\n",
       "    </tr>\n",
       "    <tr>\n",
       "      <th>WK</th>\n",
       "      <td>0.026436</td>\n",
       "    </tr>\n",
       "    <tr>\n",
       "      <th>RGEN.O</th>\n",
       "      <td>0.024771</td>\n",
       "    </tr>\n",
       "    <tr>\n",
       "      <th>ELV</th>\n",
       "      <td>0.019719</td>\n",
       "    </tr>\n",
       "    <tr>\n",
       "      <th>ZS.O</th>\n",
       "      <td>0.015858</td>\n",
       "    </tr>\n",
       "    <tr>\n",
       "      <th>TJX</th>\n",
       "      <td>0.014361</td>\n",
       "    </tr>\n",
       "    <tr>\n",
       "      <th>ETSY.O</th>\n",
       "      <td>0.012373</td>\n",
       "    </tr>\n",
       "    <tr>\n",
       "      <th>LSI</th>\n",
       "      <td>0.005827</td>\n",
       "    </tr>\n",
       "  </tbody>\n",
       "</table>\n",
       "</div>"
      ],
      "text/plain": [
       "          Weight\n",
       "CHK.O   0.288261\n",
       "OTIS.K  0.236868\n",
       "PWR     0.144904\n",
       "CTVA.K  0.066873\n",
       "BAH     0.063239\n",
       "PGR     0.045470\n",
       "RLI     0.035040\n",
       "WK      0.026436\n",
       "RGEN.O  0.024771\n",
       "ELV     0.019719\n",
       "ZS.O    0.015858\n",
       "TJX     0.014361\n",
       "ETSY.O  0.012373\n",
       "LSI     0.005827"
      ]
     },
     "execution_count": 13,
     "metadata": {},
     "output_type": "execute_result"
    }
   ],
   "source": [
    "tangency_weights = pd.DataFrame.from_dict(weights, orient='index', columns=['Weight'])\n",
    "tangency_weights[tangency_weights['Weight']>0].sort_values(by='Weight', ascending=False)"
   ]
  },
  {
   "cell_type": "code",
   "execution_count": 14,
   "metadata": {},
   "outputs": [],
   "source": [
    "tangency_returns = (tangency_weights.T.values*df_sample).sum(axis=1)"
   ]
  },
  {
   "cell_type": "code",
   "execution_count": 15,
   "metadata": {},
   "outputs": [],
   "source": [
    "mu_tangency_monthly = tangency_returns.mean()\n",
    "mu_tangency_annual = (1+mu_tangency_monthly)**12-1\n",
    "\n",
    "sigma_sq_tangency = tangency_returns.var(ddof=1)\n",
    "sigma_tangency_monthly = tangency_returns.std(ddof=1)\n",
    "sigma_tangency_annual = sigma_tangency_monthly*np.sqrt(12)\n",
    "\n",
    "sr_tangency = mu_tangency_monthly/sigma_tangency_monthly*np.sqrt(12)\n",
    "\n",
    "num_inv_tangency = np.sum(tangency_weights.values>0)\n",
    "num_sectors_tangency = df_sector.merge(tangency_weights.loc[tangency_weights['Weight']>0], \n",
    "                                        left_on='Instrument', right_index=True)['TRBC Economic Sector Name'].nunique()"
   ]
  },
  {
   "cell_type": "code",
   "execution_count": 16,
   "metadata": {},
   "outputs": [],
   "source": [
    "tangency_emissions = (tangency_weights['Weight'].values*df_emission_scores.drop(columns=['RIC']).T).sum(1)"
   ]
  },
  {
   "cell_type": "code",
   "execution_count": 17,
   "metadata": {},
   "outputs": [],
   "source": [
    "tangency_sector_weights = tangency_weights.merge(df_sector, left_index=True, right_on='Instrument').groupby('TRBC Economic Sector Name')['Weight'].sum()"
   ]
  },
  {
   "attachments": {},
   "cell_type": "markdown",
   "metadata": {},
   "source": [
    "#### Constrained Portfolio - 10% Reduced Emissions"
   ]
  },
  {
   "cell_type": "code",
   "execution_count": 18,
   "metadata": {},
   "outputs": [],
   "source": [
    "# Define constraints\n",
    "def TE(w, portfolio_returns, benchmark_returns):\n",
    "    xi= (w @ portfolio_returns.T - benchmark_returns.values.reshape(-1))\n",
    "    mean = cp.sum(xi)/len(benchmark_returns)\n",
    "    return cp.sum_squares(xi- mean)\n",
    "\n",
    "def CI(w, portfolio_intensity):\n",
    "    xi = w @ portfolio_intensity.T\n",
    "    carbon_intensity = cp.sum(xi)\n",
    "    return carbon_intensity"
   ]
  },
  {
   "cell_type": "code",
   "execution_count": 19,
   "metadata": {},
   "outputs": [],
   "source": [
    "ef_constrained1 = EfficientFrontier(mu, S, weight_bounds=(0, 1))\n",
    "\n",
    "ef_constrained1.add_constraint(lambda w: TE(w, df_sample, benchmark_returns) <= 0.1**2)\n",
    "ef_constrained1.add_constraint(lambda w: CI(w, df_emission_scores['Carbon Intensity']) <= 0.9*benchmark_emissions)\n",
    "weights = ef_constrained1.convex_objective(TE, portfolio_returns=df_sample, benchmark_returns=benchmark_returns)"
   ]
  },
  {
   "cell_type": "code",
   "execution_count": 20,
   "metadata": {},
   "outputs": [
    {
     "data": {
      "text/html": [
       "<div>\n",
       "<style scoped>\n",
       "    .dataframe tbody tr th:only-of-type {\n",
       "        vertical-align: middle;\n",
       "    }\n",
       "\n",
       "    .dataframe tbody tr th {\n",
       "        vertical-align: top;\n",
       "    }\n",
       "\n",
       "    .dataframe thead th {\n",
       "        text-align: right;\n",
       "    }\n",
       "</style>\n",
       "<table border=\"1\" class=\"dataframe\">\n",
       "  <thead>\n",
       "    <tr style=\"text-align: right;\">\n",
       "      <th></th>\n",
       "      <th>Weight</th>\n",
       "    </tr>\n",
       "  </thead>\n",
       "  <tbody>\n",
       "    <tr>\n",
       "      <th>WMT</th>\n",
       "      <td>0.146764</td>\n",
       "    </tr>\n",
       "    <tr>\n",
       "      <th>ACN</th>\n",
       "      <td>0.083999</td>\n",
       "    </tr>\n",
       "    <tr>\n",
       "      <th>ABT</th>\n",
       "      <td>0.064789</td>\n",
       "    </tr>\n",
       "    <tr>\n",
       "      <th>ADBE.O</th>\n",
       "      <td>0.061731</td>\n",
       "    </tr>\n",
       "    <tr>\n",
       "      <th>QCOM.O</th>\n",
       "      <td>0.050342</td>\n",
       "    </tr>\n",
       "    <tr>\n",
       "      <th>...</th>\n",
       "      <td>...</td>\n",
       "    </tr>\n",
       "    <tr>\n",
       "      <th>INFN.O</th>\n",
       "      <td>0.000705</td>\n",
       "    </tr>\n",
       "    <tr>\n",
       "      <th>GOGL.O</th>\n",
       "      <td>0.000561</td>\n",
       "    </tr>\n",
       "    <tr>\n",
       "      <th>TPIC.O</th>\n",
       "      <td>0.000344</td>\n",
       "    </tr>\n",
       "    <tr>\n",
       "      <th>CDE</th>\n",
       "      <td>0.000333</td>\n",
       "    </tr>\n",
       "    <tr>\n",
       "      <th>BOOM.O</th>\n",
       "      <td>0.000280</td>\n",
       "    </tr>\n",
       "  </tbody>\n",
       "</table>\n",
       "<p>100 rows × 1 columns</p>\n",
       "</div>"
      ],
      "text/plain": [
       "          Weight\n",
       "WMT     0.146764\n",
       "ACN     0.083999\n",
       "ABT     0.064789\n",
       "ADBE.O  0.061731\n",
       "QCOM.O  0.050342\n",
       "...          ...\n",
       "INFN.O  0.000705\n",
       "GOGL.O  0.000561\n",
       "TPIC.O  0.000344\n",
       "CDE     0.000333\n",
       "BOOM.O  0.000280\n",
       "\n",
       "[100 rows x 1 columns]"
      ]
     },
     "execution_count": 20,
     "metadata": {},
     "output_type": "execute_result"
    }
   ],
   "source": [
    "constrained1_weights = pd.DataFrame.from_dict(weights, orient='index', columns=['Weight'])\n",
    "constrained1_weights[constrained1_weights['Weight']>0].sort_values(by='Weight', ascending=False)"
   ]
  },
  {
   "cell_type": "code",
   "execution_count": 21,
   "metadata": {},
   "outputs": [],
   "source": [
    "constrained1_returns = (constrained1_weights.T.values*df_sample).sum(axis=1)"
   ]
  },
  {
   "cell_type": "code",
   "execution_count": 22,
   "metadata": {},
   "outputs": [],
   "source": [
    "mu_constrained1_monthly = constrained1_returns.mean()\n",
    "mu_constrained1_annual = (1+mu_constrained1_monthly)**12-1\n",
    "\n",
    "sigma_sq_constrained1 = constrained1_returns.var(ddof=1)\n",
    "sigma_constrained1_monthly = constrained1_returns.std(ddof=1)\n",
    "sigma_constrained1_annual = sigma_constrained1_monthly*np.sqrt(12)\n",
    "\n",
    "sr_constrained1 = mu_constrained1_monthly/sigma_constrained1_monthly*np.sqrt(12)\n",
    "\n",
    "constrained1_te = (constrained1_returns - benchmark_returns.T).values.std(ddof=1)\n",
    "\n",
    "num_inv_constrained1 = np.sum(constrained1_weights.values>10**-4)\n",
    "num_sectors_constrained1 = df_sector.merge(constrained1_weights.loc[constrained1_weights['Weight']>10**-4], \n",
    "                                        left_on='Instrument', right_index=True)['TRBC Economic Sector Name'].nunique()"
   ]
  },
  {
   "cell_type": "code",
   "execution_count": 23,
   "metadata": {},
   "outputs": [],
   "source": [
    "constrained1_emissions = (constrained1_weights['Weight'].values*df_emission_scores.drop(columns=['RIC']).T).sum(1)"
   ]
  },
  {
   "cell_type": "code",
   "execution_count": 24,
   "metadata": {},
   "outputs": [],
   "source": [
    "c1_sector_weights = constrained1_weights.merge(df_sector, left_index=True, right_on='Instrument').groupby('TRBC Economic Sector Name')['Weight'].sum()"
   ]
  },
  {
   "attachments": {},
   "cell_type": "markdown",
   "metadata": {},
   "source": [
    "#### Constrained Portfolio - 20% Carbon Intensity Reduction"
   ]
  },
  {
   "cell_type": "code",
   "execution_count": 25,
   "metadata": {},
   "outputs": [],
   "source": [
    "ef_constrained2 = EfficientFrontier(mu, S, weight_bounds=(0, 1))\n",
    "\n",
    "ef_constrained2.add_constraint(lambda w: TE(w, df_sample, benchmark_returns) <= 0.1**2)\n",
    "ef_constrained2.add_constraint(lambda w: CI(w, df_emission_scores['Carbon Intensity']) <= 0.8*benchmark_emissions)\n",
    "weights = ef_constrained2.convex_objective(TE, portfolio_returns=df_sample, benchmark_returns=benchmark_returns)"
   ]
  },
  {
   "cell_type": "code",
   "execution_count": 26,
   "metadata": {},
   "outputs": [
    {
     "data": {
      "text/html": [
       "<div>\n",
       "<style scoped>\n",
       "    .dataframe tbody tr th:only-of-type {\n",
       "        vertical-align: middle;\n",
       "    }\n",
       "\n",
       "    .dataframe tbody tr th {\n",
       "        vertical-align: top;\n",
       "    }\n",
       "\n",
       "    .dataframe thead th {\n",
       "        text-align: right;\n",
       "    }\n",
       "</style>\n",
       "<table border=\"1\" class=\"dataframe\">\n",
       "  <thead>\n",
       "    <tr style=\"text-align: right;\">\n",
       "      <th></th>\n",
       "      <th>Weight</th>\n",
       "    </tr>\n",
       "  </thead>\n",
       "  <tbody>\n",
       "    <tr>\n",
       "      <th>WMT</th>\n",
       "      <td>0.150698</td>\n",
       "    </tr>\n",
       "    <tr>\n",
       "      <th>ACN</th>\n",
       "      <td>0.086465</td>\n",
       "    </tr>\n",
       "    <tr>\n",
       "      <th>ABT</th>\n",
       "      <td>0.064851</td>\n",
       "    </tr>\n",
       "    <tr>\n",
       "      <th>ADBE.O</th>\n",
       "      <td>0.061591</td>\n",
       "    </tr>\n",
       "    <tr>\n",
       "      <th>QCOM.O</th>\n",
       "      <td>0.050281</td>\n",
       "    </tr>\n",
       "    <tr>\n",
       "      <th>...</th>\n",
       "      <td>...</td>\n",
       "    </tr>\n",
       "    <tr>\n",
       "      <th>CEIX.K</th>\n",
       "      <td>0.000484</td>\n",
       "    </tr>\n",
       "    <tr>\n",
       "      <th>GOGL.O</th>\n",
       "      <td>0.000329</td>\n",
       "    </tr>\n",
       "    <tr>\n",
       "      <th>TPIC.O</th>\n",
       "      <td>0.000275</td>\n",
       "    </tr>\n",
       "    <tr>\n",
       "      <th>CDE</th>\n",
       "      <td>0.000248</td>\n",
       "    </tr>\n",
       "    <tr>\n",
       "      <th>BOOM.O</th>\n",
       "      <td>0.000231</td>\n",
       "    </tr>\n",
       "  </tbody>\n",
       "</table>\n",
       "<p>100 rows × 1 columns</p>\n",
       "</div>"
      ],
      "text/plain": [
       "          Weight\n",
       "WMT     0.150698\n",
       "ACN     0.086465\n",
       "ABT     0.064851\n",
       "ADBE.O  0.061591\n",
       "QCOM.O  0.050281\n",
       "...          ...\n",
       "CEIX.K  0.000484\n",
       "GOGL.O  0.000329\n",
       "TPIC.O  0.000275\n",
       "CDE     0.000248\n",
       "BOOM.O  0.000231\n",
       "\n",
       "[100 rows x 1 columns]"
      ]
     },
     "execution_count": 26,
     "metadata": {},
     "output_type": "execute_result"
    }
   ],
   "source": [
    "constrained2_weights = pd.DataFrame.from_dict(weights, orient='index', columns=['Weight'])\n",
    "constrained2_weights[constrained2_weights['Weight']>10**-6].sort_values(by='Weight', ascending=False)"
   ]
  },
  {
   "cell_type": "code",
   "execution_count": 27,
   "metadata": {},
   "outputs": [],
   "source": [
    "constrained2_returns = (constrained2_weights.T.values*df_sample).sum(axis=1)"
   ]
  },
  {
   "cell_type": "code",
   "execution_count": 28,
   "metadata": {},
   "outputs": [],
   "source": [
    "mu_constrained2_monthly = constrained2_returns.mean()\n",
    "mu_constrained2_annual = (1+mu_constrained2_monthly)**12-1\n",
    "\n",
    "sigma_sq_constrained2 =constrained2_returns.var(ddof=1)\n",
    "sigma_constrained2_monthly = constrained2_returns.std(ddof=1)\n",
    "sigma_constrained2_annual = sigma_constrained2_monthly*np.sqrt(12)\n",
    "\n",
    "sr_constrained2 = mu_constrained2_monthly/sigma_constrained2_monthly*np.sqrt(12)\n",
    "\n",
    "constrained2_te = (constrained2_returns - benchmark_returns.T).values.std(ddof=1)\n",
    "\n",
    "num_inv_constrained2 = np.sum(constrained2_weights.values>10**-6)\n",
    "num_sectors_constrained2 = df_sector.merge(constrained2_weights.loc[constrained2_weights['Weight']>10**-6], \n",
    "                                        left_on='Instrument', right_index=True)['TRBC Economic Sector Name'].nunique()"
   ]
  },
  {
   "cell_type": "code",
   "execution_count": 29,
   "metadata": {},
   "outputs": [],
   "source": [
    "constrained2_emissions = (constrained2_weights['Weight'].values*df_emission_scores.drop(columns=['RIC']).T).sum(1)"
   ]
  },
  {
   "cell_type": "code",
   "execution_count": 30,
   "metadata": {},
   "outputs": [],
   "source": [
    "c2_sector_weights = constrained2_weights.merge(df_sector, left_index=True, right_on='Instrument').groupby('TRBC Economic Sector Name')['Weight'].sum()"
   ]
  },
  {
   "attachments": {},
   "cell_type": "markdown",
   "metadata": {},
   "source": [
    "#### Constrained Portfolio - 50% Reduction in Carbon Intensity"
   ]
  },
  {
   "cell_type": "code",
   "execution_count": 31,
   "metadata": {},
   "outputs": [],
   "source": [
    "ef_constrained3 = EfficientFrontier(mu, S, weight_bounds=(0, 1))\n",
    "\n",
    "ef_constrained3.add_constraint(lambda w: TE(w, df_sample, benchmark_returns) <= 0.1**2)\n",
    "ef_constrained3.add_constraint(lambda w: CI(w, df_emission_scores['Carbon Intensity']) <= 0.5*benchmark_emissions)\n",
    "weights = ef_constrained3.convex_objective(TE, portfolio_returns=df_sample, benchmark_returns=benchmark_returns)"
   ]
  },
  {
   "cell_type": "code",
   "execution_count": 32,
   "metadata": {},
   "outputs": [
    {
     "data": {
      "text/html": [
       "<div>\n",
       "<style scoped>\n",
       "    .dataframe tbody tr th:only-of-type {\n",
       "        vertical-align: middle;\n",
       "    }\n",
       "\n",
       "    .dataframe tbody tr th {\n",
       "        vertical-align: top;\n",
       "    }\n",
       "\n",
       "    .dataframe thead th {\n",
       "        text-align: right;\n",
       "    }\n",
       "</style>\n",
       "<table border=\"1\" class=\"dataframe\">\n",
       "  <thead>\n",
       "    <tr style=\"text-align: right;\">\n",
       "      <th></th>\n",
       "      <th>Weight</th>\n",
       "    </tr>\n",
       "  </thead>\n",
       "  <tbody>\n",
       "    <tr>\n",
       "      <th>WMT</th>\n",
       "      <td>0.169006</td>\n",
       "    </tr>\n",
       "    <tr>\n",
       "      <th>ACN</th>\n",
       "      <td>0.093998</td>\n",
       "    </tr>\n",
       "    <tr>\n",
       "      <th>ABT</th>\n",
       "      <td>0.072431</td>\n",
       "    </tr>\n",
       "    <tr>\n",
       "      <th>ADBE.O</th>\n",
       "      <td>0.064150</td>\n",
       "    </tr>\n",
       "    <tr>\n",
       "      <th>QCOM.O</th>\n",
       "      <td>0.046552</td>\n",
       "    </tr>\n",
       "    <tr>\n",
       "      <th>SPGI.K</th>\n",
       "      <td>0.041605</td>\n",
       "    </tr>\n",
       "    <tr>\n",
       "      <th>ELV</th>\n",
       "      <td>0.040643</td>\n",
       "    </tr>\n",
       "    <tr>\n",
       "      <th>TJX</th>\n",
       "      <td>0.034463</td>\n",
       "    </tr>\n",
       "    <tr>\n",
       "      <th>ELS</th>\n",
       "      <td>0.030099</td>\n",
       "    </tr>\n",
       "    <tr>\n",
       "      <th>PGR</th>\n",
       "      <td>0.029853</td>\n",
       "    </tr>\n",
       "    <tr>\n",
       "      <th>LRCX.O</th>\n",
       "      <td>0.027663</td>\n",
       "    </tr>\n",
       "    <tr>\n",
       "      <th>HAL</th>\n",
       "      <td>0.019185</td>\n",
       "    </tr>\n",
       "    <tr>\n",
       "      <th>CTVA.K</th>\n",
       "      <td>0.019051</td>\n",
       "    </tr>\n",
       "    <tr>\n",
       "      <th>COO</th>\n",
       "      <td>0.018645</td>\n",
       "    </tr>\n",
       "    <tr>\n",
       "      <th>ATR</th>\n",
       "      <td>0.017761</td>\n",
       "    </tr>\n",
       "  </tbody>\n",
       "</table>\n",
       "</div>"
      ],
      "text/plain": [
       "          Weight\n",
       "WMT     0.169006\n",
       "ACN     0.093998\n",
       "ABT     0.072431\n",
       "ADBE.O  0.064150\n",
       "QCOM.O  0.046552\n",
       "SPGI.K  0.041605\n",
       "ELV     0.040643\n",
       "TJX     0.034463\n",
       "ELS     0.030099\n",
       "PGR     0.029853\n",
       "LRCX.O  0.027663\n",
       "HAL     0.019185\n",
       "CTVA.K  0.019051\n",
       "COO     0.018645\n",
       "ATR     0.017761"
      ]
     },
     "execution_count": 32,
     "metadata": {},
     "output_type": "execute_result"
    }
   ],
   "source": [
    "constrained3_weights = pd.DataFrame.from_dict(weights, orient='index', columns=['Weight'])\n",
    "constrained3_weights[constrained3_weights['Weight']>10**-4].sort_values(by='Weight', ascending=False).head(15)"
   ]
  },
  {
   "cell_type": "code",
   "execution_count": 33,
   "metadata": {},
   "outputs": [],
   "source": [
    "constrained3_returns = (constrained3_weights.T.values*df_sample).sum(axis=1)\n",
    "\n",
    "mu_constrained3_monthly = constrained3_returns.mean()\n",
    "mu_constrained3_annual = (1+mu_constrained3_monthly)**12-1\n",
    "\n",
    "sigma_sq_constrained3 =constrained3_returns.var(ddof=1)\n",
    "sigma_constrained3_monthly = constrained3_returns.std(ddof=1)\n",
    "sigma_constrained3_annual = sigma_constrained3_monthly*np.sqrt(12)\n",
    "\n",
    "sr_constrained3 = mu_constrained3_monthly/sigma_constrained3_monthly*np.sqrt(12)\n",
    "\n",
    "constrained3_te = (constrained3_returns - benchmark_returns.T).values.std(ddof=1)\n",
    "\n",
    "num_inv_constrained3 = np.sum(constrained3_weights.values>10**-4)\n",
    "num_sectors_constrained3 = df_sector.merge(constrained3_weights.loc[constrained3_weights['Weight']>10**-4], \n",
    "                                        left_on='Instrument', right_index=True)['TRBC Economic Sector Name'].nunique()"
   ]
  },
  {
   "cell_type": "code",
   "execution_count": 34,
   "metadata": {},
   "outputs": [],
   "source": [
    "constrained3_emissions = (constrained3_weights['Weight'].values*df_emission_scores.drop(columns=['RIC']).T).sum(1)"
   ]
  },
  {
   "cell_type": "code",
   "execution_count": 35,
   "metadata": {},
   "outputs": [],
   "source": [
    "c3_sector_weights = constrained3_weights.merge(df_sector, left_index=True, right_on='Instrument').groupby('TRBC Economic Sector Name')['Weight'].sum()"
   ]
  },
  {
   "attachments": {},
   "cell_type": "markdown",
   "metadata": {},
   "source": [
    "#### Contrained Portfolio - Tangency Portfolio with 20% less Carbon Intensity"
   ]
  },
  {
   "cell_type": "code",
   "execution_count": 36,
   "metadata": {},
   "outputs": [],
   "source": [
    "ef_constrained4 = EfficientFrontier(mu, S, weight_bounds=(0, 1))\n",
    "\n",
    "ef_constrained4.add_constraint(lambda w: CI(w, df_emission_scores['Carbon Intensity']) <= 0.8*benchmark_emissions)\n",
    "weights = ef_constrained4.max_sharpe()"
   ]
  },
  {
   "cell_type": "code",
   "execution_count": 37,
   "metadata": {},
   "outputs": [
    {
     "data": {
      "text/html": [
       "<div>\n",
       "<style scoped>\n",
       "    .dataframe tbody tr th:only-of-type {\n",
       "        vertical-align: middle;\n",
       "    }\n",
       "\n",
       "    .dataframe tbody tr th {\n",
       "        vertical-align: top;\n",
       "    }\n",
       "\n",
       "    .dataframe thead th {\n",
       "        text-align: right;\n",
       "    }\n",
       "</style>\n",
       "<table border=\"1\" class=\"dataframe\">\n",
       "  <thead>\n",
       "    <tr style=\"text-align: right;\">\n",
       "      <th></th>\n",
       "      <th>Weight</th>\n",
       "    </tr>\n",
       "  </thead>\n",
       "  <tbody>\n",
       "    <tr>\n",
       "      <th>OTIS.K</th>\n",
       "      <td>0.247224</td>\n",
       "    </tr>\n",
       "    <tr>\n",
       "      <th>CHK.O</th>\n",
       "      <td>0.165791</td>\n",
       "    </tr>\n",
       "    <tr>\n",
       "      <th>PWR</th>\n",
       "      <td>0.104510</td>\n",
       "    </tr>\n",
       "    <tr>\n",
       "      <th>BAH</th>\n",
       "      <td>0.102586</td>\n",
       "    </tr>\n",
       "    <tr>\n",
       "      <th>PGR</th>\n",
       "      <td>0.090974</td>\n",
       "    </tr>\n",
       "    <tr>\n",
       "      <th>RLI</th>\n",
       "      <td>0.071950</td>\n",
       "    </tr>\n",
       "    <tr>\n",
       "      <th>ELV</th>\n",
       "      <td>0.060166</td>\n",
       "    </tr>\n",
       "    <tr>\n",
       "      <th>RGEN.O</th>\n",
       "      <td>0.048251</td>\n",
       "    </tr>\n",
       "    <tr>\n",
       "      <th>CTVA.K</th>\n",
       "      <td>0.041494</td>\n",
       "    </tr>\n",
       "    <tr>\n",
       "      <th>WK</th>\n",
       "      <td>0.034620</td>\n",
       "    </tr>\n",
       "    <tr>\n",
       "      <th>ETSY.O</th>\n",
       "      <td>0.027598</td>\n",
       "    </tr>\n",
       "    <tr>\n",
       "      <th>TJX</th>\n",
       "      <td>0.004836</td>\n",
       "    </tr>\n",
       "  </tbody>\n",
       "</table>\n",
       "</div>"
      ],
      "text/plain": [
       "          Weight\n",
       "OTIS.K  0.247224\n",
       "CHK.O   0.165791\n",
       "PWR     0.104510\n",
       "BAH     0.102586\n",
       "PGR     0.090974\n",
       "RLI     0.071950\n",
       "ELV     0.060166\n",
       "RGEN.O  0.048251\n",
       "CTVA.K  0.041494\n",
       "WK      0.034620\n",
       "ETSY.O  0.027598\n",
       "TJX     0.004836"
      ]
     },
     "execution_count": 37,
     "metadata": {},
     "output_type": "execute_result"
    }
   ],
   "source": [
    "constrained4_weights = pd.DataFrame.from_dict(weights, orient='index', columns=['Weight'])\n",
    "constrained4_weights[constrained4_weights['Weight']>10**-4].sort_values(by='Weight', ascending=False).head(15)"
   ]
  },
  {
   "cell_type": "code",
   "execution_count": 38,
   "metadata": {},
   "outputs": [],
   "source": [
    "constrained4_returns = (constrained4_weights.T.values*df_sample).sum(axis=1)\n",
    "\n",
    "mu_constrained4_monthly = constrained4_returns.mean()\n",
    "mu_constrained4_annual = (1+mu_constrained4_monthly)**12-1\n",
    "\n",
    "sigma_sq_constrained4 = constrained4_returns.var(ddof=1)\n",
    "sigma_constrained4_monthly = constrained4_returns.std(ddof=1)\n",
    "sigma_constrained4_annual = sigma_constrained4_monthly*np.sqrt(12)\n",
    "\n",
    "sr_constrained4 = mu_constrained4_monthly/sigma_constrained4_monthly*np.sqrt(12)\n",
    "\n",
    "constrained4_te = (constrained4_returns - tangency_returns.T).values.std(ddof=1)\n",
    "\n",
    "num_inv_constrained4 = np.sum(constrained4_weights.values>10**-4)\n",
    "num_sectors_constrained4 = df_sector.merge(constrained4_weights.loc[constrained4_weights['Weight']>10**-4], \n",
    "                                        left_on='Instrument', right_index=True)['TRBC Economic Sector Name'].nunique()"
   ]
  },
  {
   "cell_type": "code",
   "execution_count": 39,
   "metadata": {},
   "outputs": [],
   "source": [
    "constrained4_emissions = (constrained4_weights['Weight'].values*df_emission_scores.drop(columns=['RIC']).T).sum(1)"
   ]
  },
  {
   "cell_type": "code",
   "execution_count": 40,
   "metadata": {},
   "outputs": [],
   "source": [
    "c4_sector_weights = constrained4_weights.merge(df_sector, left_index=True, right_on='Instrument').groupby('TRBC Economic Sector Name')['Weight'].sum()"
   ]
  },
  {
   "cell_type": "markdown",
   "metadata": {},
   "source": [
    "#### Constrained Portfolio - Tangency w/ 20% CI Reduction & Sector Balance"
   ]
  },
  {
   "cell_type": "code",
   "execution_count": 42,
   "metadata": {},
   "outputs": [],
   "source": [
    "sector_mapper = df_sector.set_index('Instrument').to_dict().get('TRBC Economic Sector Name')\n",
    "\n",
    "sector_weights = benchmark_weights.merge(df_sector, left_index=True, right_on='Instrument').groupby('TRBC Economic Sector Name')['Weight'].sum()\n",
    "\n",
    "lower_bound = (sector_weights*0.7).to_dict()\n",
    "upper_bound = (sector_weights*1.3).to_dict()"
   ]
  },
  {
   "cell_type": "code",
   "execution_count": 43,
   "metadata": {},
   "outputs": [],
   "source": [
    "ef_constrained5 = EfficientFrontier(mu, S, weight_bounds=(0, 1))\n",
    "\n",
    "ef_constrained5.add_constraint(lambda w: CI(w, df_emission_scores['Carbon Intensity']) <= 0.8*benchmark_emissions)\n",
    "ef_constrained5.add_sector_constraints(sector_mapper, lower_bound, upper_bound)\n",
    "weights = ef_constrained5.max_sharpe()"
   ]
  },
  {
   "cell_type": "code",
   "execution_count": 44,
   "metadata": {},
   "outputs": [],
   "source": [
    "constrained5_weights = pd.DataFrame.from_dict(weights, orient='index', columns=['Weight'])"
   ]
  },
  {
   "cell_type": "code",
   "execution_count": 45,
   "metadata": {},
   "outputs": [],
   "source": [
    "constrained5_returns = (constrained5_weights.T.values*df_sample).sum(axis=1)\n",
    "\n",
    "mu_constrained5_monthly = constrained5_returns.mean()\n",
    "mu_constrained5_annual = (1+mu_constrained5_monthly)**12-1\n",
    "\n",
    "sigma_sq_constrained5 = constrained5_returns.var(ddof=1)\n",
    "sigma_constrained5_monthly = constrained5_returns.std(ddof=1)\n",
    "sigma_constrained5_annual = sigma_constrained5_monthly*np.sqrt(12)\n",
    "\n",
    "sr_constrained5 = mu_constrained5_monthly/sigma_constrained5_monthly*np.sqrt(12)\n",
    "\n",
    "constrained5_te = (constrained5_returns - tangency_returns.T).values.std(ddof=1)\n",
    "\n",
    "num_inv_constrained5 = np.sum(constrained5_weights.values>0)\n",
    "num_sectors_constrained5 = df_sector.merge(constrained5_weights.loc[constrained5_weights['Weight']>0], \n",
    "                                        left_on='Instrument', right_index=True)['TRBC Economic Sector Name'].nunique()"
   ]
  },
  {
   "cell_type": "code",
   "execution_count": 46,
   "metadata": {},
   "outputs": [],
   "source": [
    "constrained5_emissions = (constrained5_weights['Weight'].values*df_emission_scores.drop(columns=['RIC']).T).sum(1)"
   ]
  },
  {
   "cell_type": "code",
   "execution_count": 47,
   "metadata": {},
   "outputs": [],
   "source": [
    "c5_sector_weights = constrained5_weights.merge(df_sector, left_index=True, right_on='Instrument').groupby('TRBC Economic Sector Name')['Weight'].sum()"
   ]
  },
  {
   "cell_type": "markdown",
   "metadata": {},
   "source": [
    "#### Summary Dataframe Composition"
   ]
  },
  {
   "cell_type": "code",
   "execution_count": 48,
   "metadata": {},
   "outputs": [],
   "source": [
    "bp = pd.DataFrame([mu_benchmark_monthly, mu_benchmark_annual, sigma_benchmark_monthly,\n",
    "               sigma_benchmark_annual, sr_benchmark, num_inv_benchmark, num_sectors_benchmark, '', 0], \n",
    "                columns=['Market Cap-Weighted'], index=['Monthly Return', 'Annual Return', 'Monthly Volatility', 'Annual Volatility',\n",
    "                 'Sharpe Ratio', 'Number of Investments', 'Number of Sectors', 'Benchmark', 'Tracking Error']).T"
   ]
  },
  {
   "cell_type": "code",
   "execution_count": 49,
   "metadata": {},
   "outputs": [],
   "source": [
    "tp = pd.DataFrame([mu_tangency_monthly, mu_tangency_annual, sigma_tangency_monthly,\n",
    "               sigma_tangency_annual, sr_tangency, num_inv_tangency, num_sectors_tangency, '', 0], \n",
    "                columns=['Tangency'], index=['Monthly Return', 'Annual Return', 'Monthly Volatility', 'Annual Volatility',\n",
    "                 'Sharpe Ratio', 'Number of Investments', 'Number of Sectors', 'Benchmark', 'Tracking Error']).T"
   ]
  },
  {
   "cell_type": "code",
   "execution_count": 50,
   "metadata": {},
   "outputs": [],
   "source": [
    "p1 = pd.DataFrame([mu_constrained1_monthly, mu_constrained1_annual, sigma_constrained1_monthly,\n",
    "               sigma_constrained1_annual, sr_constrained1, num_inv_constrained1, num_sectors_constrained1, 'Market-Cap', 100*constrained1_te], \n",
    "                columns=['Market Cap-Weighted w/ 10% CI Reduction'], index=['Monthly Return', 'Annual Return', 'Monthly Volatility', 'Annual Volatility'\n",
    "                , 'Sharpe Ratio', 'Number of Investments', 'Number of Sectors', 'Benchmark', 'Tracking Error']).T"
   ]
  },
  {
   "cell_type": "code",
   "execution_count": 51,
   "metadata": {},
   "outputs": [],
   "source": [
    "p2 = pd.DataFrame([mu_constrained2_monthly, mu_constrained2_annual, sigma_constrained2_monthly,\n",
    "               sigma_constrained2_annual, sr_constrained2, num_inv_constrained2, num_sectors_constrained2, 'Market-Cap', 100*constrained2_te], \n",
    "                columns=['Market Cap-Weighted w/ 20% CI Reduction'], index=['Monthly Return', 'Annual Return', 'Monthly Volatility', 'Annual Volatility'\n",
    "                , 'Sharpe Ratio', 'Number of Investments', 'Number of Sectors', 'Benchmark', 'Tracking Error']).T"
   ]
  },
  {
   "cell_type": "code",
   "execution_count": 52,
   "metadata": {},
   "outputs": [],
   "source": [
    "p3 = pd.DataFrame([mu_constrained3_monthly, mu_constrained3_annual, sigma_constrained3_monthly,\n",
    "               sigma_constrained3_annual, sr_constrained3, num_inv_constrained3, num_sectors_constrained3, 'Market-Cap', 100*constrained3_te], \n",
    "                columns=['Market Cap-Weighted w/ 50% CI Reduction'], index=['Monthly Return', 'Annual Return', 'Monthly Volatility', 'Annual Volatility'\n",
    "                , 'Sharpe Ratio', 'Number of Investments', 'Number of Sectors', 'Benchmark', 'Tracking Error']).T"
   ]
  },
  {
   "cell_type": "code",
   "execution_count": 53,
   "metadata": {},
   "outputs": [],
   "source": [
    "p4 = pd.DataFrame([mu_constrained4_monthly, mu_constrained4_annual, sigma_constrained4_monthly,\n",
    "               sigma_constrained4_annual, sr_constrained4, num_inv_constrained4, num_sectors_constrained4, 'Tangency', 100*constrained4_te], \n",
    "                columns=['Tangency w/ 20% CI Reduction'], index=['Monthly Return', 'Annual Return', 'Monthly Volatility', 'Annual Volatility'\n",
    "                , 'Sharpe Ratio', 'Number of Investments', 'Number of Sectors', 'Benchmark', 'Tracking Error']).T"
   ]
  },
  {
   "cell_type": "code",
   "execution_count": 54,
   "metadata": {},
   "outputs": [],
   "source": [
    "p5 = pd.DataFrame([mu_constrained5_monthly, mu_constrained5_annual, sigma_constrained5_monthly,\n",
    "               sigma_constrained5_annual, sr_constrained5, num_inv_constrained5, num_sectors_constrained5, 'Tangency', 100*constrained5_te], \n",
    "                columns=['Tangency w/ 20% CI Reduction & Sector Balance'], index=['Monthly Return', 'Annual Return', 'Monthly Volatility', 'Annual Volatility'\n",
    "                , 'Sharpe Ratio', 'Number of Investments', 'Number of Sectors', 'Benchmark', 'Tracking Error']).T"
   ]
  },
  {
   "cell_type": "code",
   "execution_count": 55,
   "metadata": {},
   "outputs": [],
   "source": [
    "df_summary = pd.concat([bp, tp, p1, p2, p3, p4, p5])"
   ]
  },
  {
   "cell_type": "code",
   "execution_count": 56,
   "metadata": {},
   "outputs": [],
   "source": [
    "df_summary = df_summary.style.format({\n",
    "    'Monthly Return': '{:,.4f}'.format,\n",
    "    'Annual Return': '{:,.4f}'.format,\n",
    "    'Monthly Volatility': '{:,.4f}'.format,\n",
    "    'Annual Volatility': '{:,.4f}'.format,\n",
    "    'Sharpe Ratio': '{:,.4f}'.format,\n",
    "    'Number of Investments': '{:,.0f}'.format,\n",
    "    'Number of Sectors': '{:,.0f}'.format,\n",
    "    'Tracking Error': '{:,.4f}%'.format,\n",
    "})"
   ]
  },
  {
   "cell_type": "code",
   "execution_count": 57,
   "metadata": {},
   "outputs": [
    {
     "data": {
      "text/html": [
       "<style type=\"text/css\">\n",
       "</style>\n",
       "<table id=\"T_0e805\">\n",
       "  <thead>\n",
       "    <tr>\n",
       "      <th class=\"blank level0\" >&nbsp;</th>\n",
       "      <th id=\"T_0e805_level0_col0\" class=\"col_heading level0 col0\" >Monthly Return</th>\n",
       "      <th id=\"T_0e805_level0_col1\" class=\"col_heading level0 col1\" >Annual Return</th>\n",
       "      <th id=\"T_0e805_level0_col2\" class=\"col_heading level0 col2\" >Monthly Volatility</th>\n",
       "      <th id=\"T_0e805_level0_col3\" class=\"col_heading level0 col3\" >Annual Volatility</th>\n",
       "      <th id=\"T_0e805_level0_col4\" class=\"col_heading level0 col4\" >Sharpe Ratio</th>\n",
       "      <th id=\"T_0e805_level0_col5\" class=\"col_heading level0 col5\" >Number of Investments</th>\n",
       "      <th id=\"T_0e805_level0_col6\" class=\"col_heading level0 col6\" >Number of Sectors</th>\n",
       "      <th id=\"T_0e805_level0_col7\" class=\"col_heading level0 col7\" >Benchmark</th>\n",
       "      <th id=\"T_0e805_level0_col8\" class=\"col_heading level0 col8\" >Tracking Error</th>\n",
       "    </tr>\n",
       "  </thead>\n",
       "  <tbody>\n",
       "    <tr>\n",
       "      <th id=\"T_0e805_level0_row0\" class=\"row_heading level0 row0\" >Market Cap-Weighted</th>\n",
       "      <td id=\"T_0e805_row0_col0\" class=\"data row0 col0\" >0.0143</td>\n",
       "      <td id=\"T_0e805_row0_col1\" class=\"data row0 col1\" >0.1854</td>\n",
       "      <td id=\"T_0e805_row0_col2\" class=\"data row0 col2\" >0.0549</td>\n",
       "      <td id=\"T_0e805_row0_col3\" class=\"data row0 col3\" >0.1901</td>\n",
       "      <td id=\"T_0e805_row0_col4\" class=\"data row0 col4\" >0.9009</td>\n",
       "      <td id=\"T_0e805_row0_col5\" class=\"data row0 col5\" >100</td>\n",
       "      <td id=\"T_0e805_row0_col6\" class=\"data row0 col6\" >10</td>\n",
       "      <td id=\"T_0e805_row0_col7\" class=\"data row0 col7\" ></td>\n",
       "      <td id=\"T_0e805_row0_col8\" class=\"data row0 col8\" >0.0000%</td>\n",
       "    </tr>\n",
       "    <tr>\n",
       "      <th id=\"T_0e805_level0_row1\" class=\"row_heading level0 row1\" >Tangency</th>\n",
       "      <td id=\"T_0e805_row1_col0\" class=\"data row1 col0\" >0.0298</td>\n",
       "      <td id=\"T_0e805_row1_col1\" class=\"data row1 col1\" >0.4230</td>\n",
       "      <td id=\"T_0e805_row1_col2\" class=\"data row1 col2\" >0.0453</td>\n",
       "      <td id=\"T_0e805_row1_col3\" class=\"data row1 col3\" >0.1571</td>\n",
       "      <td id=\"T_0e805_row1_col4\" class=\"data row1 col4\" >2.2792</td>\n",
       "      <td id=\"T_0e805_row1_col5\" class=\"data row1 col5\" >14</td>\n",
       "      <td id=\"T_0e805_row1_col6\" class=\"data row1 col6\" >8</td>\n",
       "      <td id=\"T_0e805_row1_col7\" class=\"data row1 col7\" ></td>\n",
       "      <td id=\"T_0e805_row1_col8\" class=\"data row1 col8\" >0.0000%</td>\n",
       "    </tr>\n",
       "    <tr>\n",
       "      <th id=\"T_0e805_level0_row2\" class=\"row_heading level0 row2\" >Market Cap-Weighted w/ 10% CI Reduction</th>\n",
       "      <td id=\"T_0e805_row2_col0\" class=\"data row2 col0\" >0.0142</td>\n",
       "      <td id=\"T_0e805_row2_col1\" class=\"data row2 col1\" >0.1840</td>\n",
       "      <td id=\"T_0e805_row2_col2\" class=\"data row2 col2\" >0.0549</td>\n",
       "      <td id=\"T_0e805_row2_col3\" class=\"data row2 col3\" >0.1901</td>\n",
       "      <td id=\"T_0e805_row2_col4\" class=\"data row2 col4\" >0.8946</td>\n",
       "      <td id=\"T_0e805_row2_col5\" class=\"data row2 col5\" >100</td>\n",
       "      <td id=\"T_0e805_row2_col6\" class=\"data row2 col6\" >10</td>\n",
       "      <td id=\"T_0e805_row2_col7\" class=\"data row2 col7\" >Market-Cap</td>\n",
       "      <td id=\"T_0e805_row2_col8\" class=\"data row2 col8\" >0.0000%</td>\n",
       "    </tr>\n",
       "    <tr>\n",
       "      <th id=\"T_0e805_level0_row3\" class=\"row_heading level0 row3\" >Market Cap-Weighted w/ 20% CI Reduction</th>\n",
       "      <td id=\"T_0e805_row3_col0\" class=\"data row3 col0\" >0.0142</td>\n",
       "      <td id=\"T_0e805_row3_col1\" class=\"data row3 col1\" >0.1839</td>\n",
       "      <td id=\"T_0e805_row3_col2\" class=\"data row3 col2\" >0.0549</td>\n",
       "      <td id=\"T_0e805_row3_col3\" class=\"data row3 col3\" >0.1901</td>\n",
       "      <td id=\"T_0e805_row3_col4\" class=\"data row3 col4\" >0.8943</td>\n",
       "      <td id=\"T_0e805_row3_col5\" class=\"data row3 col5\" >100</td>\n",
       "      <td id=\"T_0e805_row3_col6\" class=\"data row3 col6\" >10</td>\n",
       "      <td id=\"T_0e805_row3_col7\" class=\"data row3 col7\" >Market-Cap</td>\n",
       "      <td id=\"T_0e805_row3_col8\" class=\"data row3 col8\" >0.0000%</td>\n",
       "    </tr>\n",
       "    <tr>\n",
       "      <th id=\"T_0e805_level0_row4\" class=\"row_heading level0 row4\" >Market Cap-Weighted w/ 50% CI Reduction</th>\n",
       "      <td id=\"T_0e805_row4_col0\" class=\"data row4 col0\" >0.0140</td>\n",
       "      <td id=\"T_0e805_row4_col1\" class=\"data row4 col1\" >0.1816</td>\n",
       "      <td id=\"T_0e805_row4_col2\" class=\"data row4 col2\" >0.0549</td>\n",
       "      <td id=\"T_0e805_row4_col3\" class=\"data row4 col3\" >0.1901</td>\n",
       "      <td id=\"T_0e805_row4_col4\" class=\"data row4 col4\" >0.8837</td>\n",
       "      <td id=\"T_0e805_row4_col5\" class=\"data row4 col5\" >58</td>\n",
       "      <td id=\"T_0e805_row4_col6\" class=\"data row4 col6\" >9</td>\n",
       "      <td id=\"T_0e805_row4_col7\" class=\"data row4 col7\" >Market-Cap</td>\n",
       "      <td id=\"T_0e805_row4_col8\" class=\"data row4 col8\" >0.0093%</td>\n",
       "    </tr>\n",
       "    <tr>\n",
       "      <th id=\"T_0e805_level0_row5\" class=\"row_heading level0 row5\" >Tangency w/ 20% CI Reduction</th>\n",
       "      <td id=\"T_0e805_row5_col0\" class=\"data row5 col0\" >0.0274</td>\n",
       "      <td id=\"T_0e805_row5_col1\" class=\"data row5 col1\" >0.3835</td>\n",
       "      <td id=\"T_0e805_row5_col2\" class=\"data row5 col2\" >0.0438</td>\n",
       "      <td id=\"T_0e805_row5_col3\" class=\"data row5 col3\" >0.1516</td>\n",
       "      <td id=\"T_0e805_row5_col4\" class=\"data row5 col4\" >2.1706</td>\n",
       "      <td id=\"T_0e805_row5_col5\" class=\"data row5 col5\" >12</td>\n",
       "      <td id=\"T_0e805_row5_col6\" class=\"data row5 col6\" >7</td>\n",
       "      <td id=\"T_0e805_row5_col7\" class=\"data row5 col7\" >Tangency</td>\n",
       "      <td id=\"T_0e805_row5_col8\" class=\"data row5 col8\" >1.3282%</td>\n",
       "    </tr>\n",
       "    <tr>\n",
       "      <th id=\"T_0e805_level0_row6\" class=\"row_heading level0 row6\" >Tangency w/ 20% CI Reduction & Sector Balance</th>\n",
       "      <td id=\"T_0e805_row6_col0\" class=\"data row6 col0\" >0.0226</td>\n",
       "      <td id=\"T_0e805_row6_col1\" class=\"data row6 col1\" >0.3083</td>\n",
       "      <td id=\"T_0e805_row6_col2\" class=\"data row6 col2\" >0.0443</td>\n",
       "      <td id=\"T_0e805_row6_col3\" class=\"data row6 col3\" >0.1535</td>\n",
       "      <td id=\"T_0e805_row6_col4\" class=\"data row6 col4\" >1.7701</td>\n",
       "      <td id=\"T_0e805_row6_col5\" class=\"data row6 col5\" >16</td>\n",
       "      <td id=\"T_0e805_row6_col6\" class=\"data row6 col6\" >10</td>\n",
       "      <td id=\"T_0e805_row6_col7\" class=\"data row6 col7\" >Tangency</td>\n",
       "      <td id=\"T_0e805_row6_col8\" class=\"data row6 col8\" >2.7153%</td>\n",
       "    </tr>\n",
       "  </tbody>\n",
       "</table>\n"
      ],
      "text/plain": [
       "<pandas.io.formats.style.Styler at 0x26f79ecc100>"
      ]
     },
     "execution_count": 57,
     "metadata": {},
     "output_type": "execute_result"
    }
   ],
   "source": [
    "df_summary"
   ]
  },
  {
   "cell_type": "code",
   "execution_count": 58,
   "metadata": {},
   "outputs": [],
   "source": [
    "df_esg_sector_bm = df_esg.merge(df_sector, left_on='RIC', right_on='Instrument').drop(\n",
    "    columns='Instrument').merge(benchmark_weights, left_on='RIC', right_index=True)\n",
    "df_esg_sector_bm['Weighted ESG Score - Benchmark'] = df_esg_sector_bm['Weight']*df_esg_sector_bm['ESG Score']"
   ]
  },
  {
   "cell_type": "code",
   "execution_count": 59,
   "metadata": {},
   "outputs": [],
   "source": [
    "df_esg_sector_cs4 = df_esg.merge(df_sector, left_on='RIC', right_on='Instrument').drop(\n",
    "    columns='Instrument').merge(constrained4_weights, left_on='RIC', right_index=True)\n",
    "df_esg_sector_cs4['Weighted ESG Score - Constrained'] = df_esg_sector_cs4['Weight']*df_esg_sector_cs4['ESG Score']\n",
    "# df_esg_sector['Weighted Social Pillar Score'] = df_esg_sector['Weight']*df_esg_sector['Social Pillar Score']\n",
    "# df_esg_sector['Weighted Environmental Pillar Score'] = df_esg_sector['Weight']*df_esg_sector['Environmental Pillar Score']\n",
    "# df_esg_sector['Weighted Governance Pillar Score'] = df_esg_sector['Weight']*df_esg_sector['Governance Pillar Score']"
   ]
  },
  {
   "cell_type": "code",
   "execution_count": 60,
   "metadata": {},
   "outputs": [],
   "source": [
    "esg_grouped_bm = df_esg_sector_bm.groupby('TRBC Economic Sector Name').sum()['Weighted ESG Score - Benchmark'].sort_values(ascending=False)\n",
    "esg_grouped_cs4 = df_esg_sector_cs4.groupby('TRBC Economic Sector Name').sum()['Weighted ESG Score - Constrained'].sort_values(ascending=False)\n",
    "esg_grouped_bm = esg_grouped_bm/esg_grouped_bm.sum()*100\n",
    "esg_grouped_cs4 = esg_grouped_cs4/esg_grouped_cs4.sum()*100\n",
    "\n",
    "esg_grouped = pd.concat([esg_grouped_bm, esg_grouped_cs4], axis=1)"
   ]
  },
  {
   "cell_type": "code",
   "execution_count": 61,
   "metadata": {},
   "outputs": [
    {
     "name": "stdout",
     "output_type": "stream",
     "text": [
      "\\begin{tabular}{lrr}\n",
      "\\toprule\n",
      " & Weighted ESG Score - Benchmark & Weighted ESG Score - Constrained \\\\\n",
      "TRBC Economic Sector Name &  &  \\\\\n",
      "\\midrule\n",
      "Technology & 26.66% & 14.45% \\\\\n",
      "Consumer Non-Cyclicals & 17.12% & 0.00% \\\\\n",
      "Healthcare & 16.97% & 13.85% \\\\\n",
      "Industrials & 14.22% & 37.30% \\\\\n",
      "Consumer Cyclicals & 8.66% & 2.67% \\\\\n",
      "Basic Materials & 4.11% & 4.32% \\\\\n",
      "Financials & 4.02% & 12.64% \\\\\n",
      "Real Estate & 3.47% & 0.00% \\\\\n",
      "Energy & 3.40% & 14.78% \\\\\n",
      "Utilities & 1.37% & 0.00% \\\\\n",
      "\\bottomrule\n",
      "\\end{tabular}\n",
      "\n"
     ]
    }
   ],
   "source": [
    "print(esg_grouped.to_latex(float_format=\"{:,.2f}%\".format))"
   ]
  },
  {
   "cell_type": "code",
   "execution_count": 62,
   "metadata": {},
   "outputs": [],
   "source": [
    "tangency_emissions.rename('Tangency', inplace=True)\n",
    "benchmark_emissions.rename('Benchmark', inplace=True)\n",
    "constrained1_emissions.rename('Market Cap-Weighted w/ 10% CI Reduction', inplace=True)\n",
    "constrained2_emissions.rename('Market Cap-Weighted w/ 20% CI Reduction', inplace=True)\n",
    "constrained3_emissions.rename('Market Cap-Weighted w/ 50% CI Reduction', inplace=True)\n",
    "constrained4_emissions.rename('Tangency w/ 20% CI Reduction', inplace=True)\n",
    "constrained5_emissions.rename('Tangency w/ 20% CI Reduction & Sector Balance', inplace=True)\n",
    "\n",
    "df_emissions_summary = pd.concat([benchmark_emissions, tangency_emissions, constrained1_emissions, \n",
    "    constrained2_emissions, constrained3_emissions, constrained4_emissions, constrained5_emissions], axis=1).T"
   ]
  },
  {
   "cell_type": "code",
   "execution_count": 79,
   "metadata": {},
   "outputs": [
    {
     "name": "stdout",
     "output_type": "stream",
     "text": [
      "\\begin{tabular}{lrrrrr}\n",
      "\\toprule\n",
      " & Carbon Intensity & ESG Score & Social Pillar Score & Environmental Pillar Score & Governance Pillar Score \\\\\n",
      "\\midrule\n",
      "Benchmark & 47.67 & 73.41 & 75.56 & 68.99 & 73.63 \\\\\n",
      "Tangency & 61.66 & 61.77 & 64.11 & 45.28 & 72.48 \\\\\n",
      "Market Cap-Weighted w/ 10% CI Reduction & 42.14 & 73.15 & 74.95 & 69.00 & 73.51 \\\\\n",
      "Market Cap-Weighted w/ 20% CI Reduction & 37.72 & 73.40 & 75.15 & 69.26 & 73.70 \\\\\n",
      "Market Cap-Weighted w/ 50% CI Reduction & 23.83 & 74.69 & 76.23 & 71.00 & 74.63 \\\\\n",
      "Tangency w/ 20% CI Reduction & 38.14 & 62.46 & 62.42 & 43.15 & 75.57 \\\\\n",
      "Tangency w/ 20% CI Reduction & Sector Balance & 22.41 & 68.59 & 69.03 & 53.27 & 78.03 \\\\\n",
      "\\bottomrule\n",
      "\\end{tabular}\n",
      "\n"
     ]
    }
   ],
   "source": [
    "print(df_emissions_summary.to_latex(float_format=\"{:,.2f}\".format))"
   ]
  },
  {
   "cell_type": "code",
   "execution_count": 76,
   "metadata": {},
   "outputs": [],
   "source": [
    "benchmark_sector_weights.rename('Benchmark', inplace=True)\n",
    "tangency_sector_weights.rename('Tangency', inplace=True)\n",
    "c1_sector_weights.rename('Market Cap-Weighted w/ 10% CI Reduction', inplace=True)\n",
    "c2_sector_weights.rename('Market Cap-Weighted w/ 20% CI Reduction', inplace=True)\n",
    "c3_sector_weights.rename('Market Cap-Weighted w/ 50% CI Reduction', inplace=True)\n",
    "c4_sector_weights.rename('Tangency w/ 20% CI Reduction', inplace=True)\n",
    "c5_sector_weights.rename('Tangency w/ 20% CI Reduction & Sector Balance', inplace=True)\n",
    "\n",
    "df_sector_weights_summary = pd.concat([benchmark_sector_weights, tangency_sector_weights, c1_sector_weights, \n",
    "        c2_sector_weights, c3_sector_weights, c4_sector_weights, c5_sector_weights], axis=1).T*100"
   ]
  },
  {
   "cell_type": "code",
   "execution_count": 78,
   "metadata": {},
   "outputs": [
    {
     "name": "stdout",
     "output_type": "stream",
     "text": [
      "\\begin{tabular}{lrrrrrrrrrr}\n",
      "\\toprule\n",
      "TRBC Economic Sector Name & Basic Materials & Consumer Cyclicals & Consumer Non-Cyclicals & Energy & Financials & Healthcare & Industrials & Real Estate & Technology & Utilities \\\\\n",
      "\\midrule\n",
      "Benchmark & 4.74% & 9.22% & 15.14% & 3.39% & 5.19% & 15.64% & 14.61% & 4.10% & 26.72% & 1.25% \\\\\n",
      "Tangency & 6.69% & 2.67% & 0.00% & 28.83% & 8.05% & 4.45% & 38.18% & 0.58% & 10.55% & 0.00% \\\\\n",
      "Market Cap-Weighted w/ 10% CI Reduction & 5.08% & 10.19% & 15.09% & 3.74% & 4.85% & 15.00% & 13.19% & 4.21% & 27.47% & 1.18% \\\\\n",
      "Market Cap-Weighted w/ 20% CI Reduction & 5.13% & 9.98% & 15.47% & 3.80% & 4.96% & 15.29% & 12.93% & 4.17% & 27.37% & 0.91% \\\\\n",
      "Market Cap-Weighted w/ 50% CI Reduction & 5.30% & 8.66% & 17.39% & 4.11% & 4.92% & 16.33% & 12.21% & 3.88% & 27.19% & 0.00% \\\\\n",
      "Tangency w/ 20% CI Reduction & 4.15% & 3.24% & 0.00% & 16.58% & 16.29% & 10.84% & 35.17% & 0.00% & 13.72% & 0.00% \\\\\n",
      "Tangency w/ 20% CI Reduction & Sector Balance & 6.17% & 6.45% & 10.60% & 4.41% & 6.75% & 19.69% & 19.00% & 4.96% & 20.36% & 1.62% \\\\\n",
      "\\bottomrule\n",
      "\\end{tabular}\n",
      "\n"
     ]
    }
   ],
   "source": [
    "print(df_sector_weights_summary.to_latex(float_format=\"{:,.2f}%\".format))"
   ]
  }
 ],
 "metadata": {
  "kernelspec": {
   "display_name": "base",
   "language": "python",
   "name": "python3"
  },
  "language_info": {
   "codemirror_mode": {
    "name": "ipython",
    "version": 3
   },
   "file_extension": ".py",
   "mimetype": "text/x-python",
   "name": "python",
   "nbconvert_exporter": "python",
   "pygments_lexer": "ipython3",
   "version": "3.10.12"
  },
  "orig_nbformat": 4
 },
 "nbformat": 4,
 "nbformat_minor": 2
}
