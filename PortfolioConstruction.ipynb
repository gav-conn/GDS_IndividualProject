{
 "cells": [
  {
   "cell_type": "code",
   "execution_count": 35,
   "metadata": {},
   "outputs": [],
   "source": [
    "import pandas as pd\n",
    "from pypfopt.efficient_frontier import EfficientFrontier\n",
    "from pypfopt import objective_functions\n",
    "from pypfopt import risk_models\n",
    "from pypfopt import expected_returns\n",
    "from pypfopt import CovarianceShrinkage\n",
    "from pypfopt.expected_returns import mean_historical_return\n",
    "from sqlalchemy import create_engine\n",
    "import numpy as np\n",
    "import cvxpy as cp"
   ]
  },
  {
   "cell_type": "code",
   "execution_count": 36,
   "metadata": {},
   "outputs": [],
   "source": [
    "engine = create_engine('sqlite:///GDS_IndividualProject.db', echo=False)\n",
    "\n",
    "df_sample = pd.read_sql_table('sample', con=engine, index_col='Date')\n",
    "df_mkt_cap = pd.read_sql_table('market_cap', con=engine, index_col='Date')\n",
    "df_sector = pd.read_sql_table('sectors', con=engine)\n",
    "df_emissions = pd.read_sql_table('emissions', con=engine)\n",
    "df_esg = pd.read_sql_table('esg', con=engine)"
   ]
  },
  {
   "cell_type": "code",
   "execution_count": 37,
   "metadata": {},
   "outputs": [],
   "source": [
    "# df_sample.drop('2017-12', inplace=True) # Returns data so drop 1st row\n",
    "\n",
    "df_sector = df_sector.sort_values('Instrument')\n",
    "\n",
    "df_emissions = df_emissions.loc[df_emissions['RIC'].isin(df_sample.columns.to_list())].sort_values('RIC').reset_index(drop=True)\n",
    "df_esg = df_esg.loc[df_esg['RIC'].isin(df_sample.columns.to_list())].sort_values('RIC').reset_index(drop=True)\n",
    "\n",
    "df_emission_scores = df_emissions[['RIC', 'Carbon Intensity']].merge(df_esg, on='RIC', how='outer')"
   ]
  },
  {
   "cell_type": "code",
   "execution_count": 38,
   "metadata": {},
   "outputs": [],
   "source": [
    "for column in df_sample.columns:\n",
    "    df_sample[[column]] = df_sample[[column]].apply(\n",
    "        lambda x: np.where(x.isnull(), x.dropna().sample(len(x), replace=True, random_state=123), x))"
   ]
  },
  {
   "cell_type": "code",
   "execution_count": 39,
   "metadata": {},
   "outputs": [],
   "source": [
    "benchmark_weights = (df_mkt_cap/(df_mkt_cap.sum(axis=1).values.reshape(-1,1))).tail(1).T.rename(columns={'2022-12': 'Weight'})\n",
    "benchmark_returns = pd.DataFrame((benchmark_weights['Weight'].values*df_sample).sum(axis=1), columns=['Benchmark Returns'])"
   ]
  },
  {
   "cell_type": "code",
   "execution_count": 40,
   "metadata": {},
   "outputs": [
    {
     "data": {
      "text/html": [
       "<div>\n",
       "<style scoped>\n",
       "    .dataframe tbody tr th:only-of-type {\n",
       "        vertical-align: middle;\n",
       "    }\n",
       "\n",
       "    .dataframe tbody tr th {\n",
       "        vertical-align: top;\n",
       "    }\n",
       "\n",
       "    .dataframe thead th {\n",
       "        text-align: right;\n",
       "    }\n",
       "</style>\n",
       "<table border=\"1\" class=\"dataframe\">\n",
       "  <thead>\n",
       "    <tr style=\"text-align: right;\">\n",
       "      <th>Date</th>\n",
       "      <th>Weight</th>\n",
       "    </tr>\n",
       "  </thead>\n",
       "  <tbody>\n",
       "    <tr>\n",
       "      <th>ABM</th>\n",
       "      <td>0.001120</td>\n",
       "    </tr>\n",
       "    <tr>\n",
       "      <th>ABT</th>\n",
       "      <td>0.073595</td>\n",
       "    </tr>\n",
       "    <tr>\n",
       "      <th>ACN</th>\n",
       "      <td>0.067542</td>\n",
       "    </tr>\n",
       "    <tr>\n",
       "      <th>ADBE.O</th>\n",
       "      <td>0.060149</td>\n",
       "    </tr>\n",
       "    <tr>\n",
       "      <th>AFL</th>\n",
       "      <td>0.017197</td>\n",
       "    </tr>\n",
       "    <tr>\n",
       "      <th>...</th>\n",
       "      <td>...</td>\n",
       "    </tr>\n",
       "    <tr>\n",
       "      <th>WDAY.O</th>\n",
       "      <td>0.016533</td>\n",
       "    </tr>\n",
       "    <tr>\n",
       "      <th>WK</th>\n",
       "      <td>0.001696</td>\n",
       "    </tr>\n",
       "    <tr>\n",
       "      <th>WMT</th>\n",
       "      <td>0.147007</td>\n",
       "    </tr>\n",
       "    <tr>\n",
       "      <th>ZBRA.O</th>\n",
       "      <td>0.005090</td>\n",
       "    </tr>\n",
       "    <tr>\n",
       "      <th>ZS.O</th>\n",
       "      <td>0.006204</td>\n",
       "    </tr>\n",
       "  </tbody>\n",
       "</table>\n",
       "<p>100 rows × 1 columns</p>\n",
       "</div>"
      ],
      "text/plain": [
       "Date      Weight\n",
       "ABM     0.001120\n",
       "ABT     0.073595\n",
       "ACN     0.067542\n",
       "ADBE.O  0.060149\n",
       "AFL     0.017197\n",
       "...          ...\n",
       "WDAY.O  0.016533\n",
       "WK      0.001696\n",
       "WMT     0.147007\n",
       "ZBRA.O  0.005090\n",
       "ZS.O    0.006204\n",
       "\n",
       "[100 rows x 1 columns]"
      ]
     },
     "execution_count": 40,
     "metadata": {},
     "output_type": "execute_result"
    }
   ],
   "source": [
    "benchmark_weights"
   ]
  },
  {
   "cell_type": "code",
   "execution_count": 41,
   "metadata": {},
   "outputs": [],
   "source": [
    "mu_benchmark_monthly = benchmark_returns.mean()\n",
    "mu_benchmark_annual = (1+mu_benchmark_monthly)**12-1\n",
    "\n",
    "sigma_sq = benchmark_returns.var(ddof=1)\n",
    "sigma_benchmark_monthly = benchmark_returns.std(ddof=1)\n",
    "sigma_benchmark_annual = sigma_benchmark_monthly*np.sqrt(12)\n",
    "\n",
    "sr_benchmark = mu_benchmark_annual/sigma_benchmark_annual\n",
    "\n",
    "num_inv_benchmark = np.sum(benchmark_weights.values>0)\n",
    "num_sectors_benchmark = df_sector.merge(benchmark_weights.loc[benchmark_weights['Weight']>0], \n",
    "                                        left_on='Instrument', right_index=True)['TRBC Economic Sector Name'].nunique()"
   ]
  },
  {
   "cell_type": "code",
   "execution_count": 42,
   "metadata": {},
   "outputs": [],
   "source": [
    "benchmark_emissions = (benchmark_weights['Weight'].values*df_emission_scores.drop(columns=['RIC']).T).sum(1)"
   ]
  },
  {
   "cell_type": "code",
   "execution_count": 43,
   "metadata": {},
   "outputs": [
    {
     "data": {
      "text/plain": [
       "Carbon Intensity              47.669643\n",
       "ESG Score                     73.409004\n",
       "Social Pillar Score           75.560752\n",
       "Environmental Pillar Score    68.990455\n",
       "Governance Pillar Score       73.634034\n",
       "dtype: float64"
      ]
     },
     "execution_count": 43,
     "metadata": {},
     "output_type": "execute_result"
    }
   ],
   "source": [
    "benchmark_emissions"
   ]
  },
  {
   "attachments": {},
   "cell_type": "markdown",
   "metadata": {},
   "source": [
    "#### Mean-variance portfolio"
   ]
  },
  {
   "cell_type": "code",
   "execution_count": 44,
   "metadata": {},
   "outputs": [],
   "source": [
    "mu = mean_historical_return(df_sample, frequency=12, returns_data=True)\n",
    "S = risk_models.risk_matrix(df_sample, method='ledoit_wolf', returns_data=True)"
   ]
  },
  {
   "cell_type": "code",
   "execution_count": 45,
   "metadata": {},
   "outputs": [],
   "source": [
    "ef = EfficientFrontier(mu, S, weight_bounds=(0, 1))\n",
    "weights = ef.max_sharpe()"
   ]
  },
  {
   "cell_type": "code",
   "execution_count": 46,
   "metadata": {},
   "outputs": [
    {
     "data": {
      "text/html": [
       "<div>\n",
       "<style scoped>\n",
       "    .dataframe tbody tr th:only-of-type {\n",
       "        vertical-align: middle;\n",
       "    }\n",
       "\n",
       "    .dataframe tbody tr th {\n",
       "        vertical-align: top;\n",
       "    }\n",
       "\n",
       "    .dataframe thead th {\n",
       "        text-align: right;\n",
       "    }\n",
       "</style>\n",
       "<table border=\"1\" class=\"dataframe\">\n",
       "  <thead>\n",
       "    <tr style=\"text-align: right;\">\n",
       "      <th></th>\n",
       "      <th>Weight</th>\n",
       "    </tr>\n",
       "  </thead>\n",
       "  <tbody>\n",
       "    <tr>\n",
       "      <th>CHK.O</th>\n",
       "      <td>0.271608</td>\n",
       "    </tr>\n",
       "    <tr>\n",
       "      <th>OTIS.K</th>\n",
       "      <td>0.219058</td>\n",
       "    </tr>\n",
       "    <tr>\n",
       "      <th>BAH</th>\n",
       "      <td>0.105264</td>\n",
       "    </tr>\n",
       "    <tr>\n",
       "      <th>PGR</th>\n",
       "      <td>0.103398</td>\n",
       "    </tr>\n",
       "    <tr>\n",
       "      <th>CTVA.K</th>\n",
       "      <td>0.089192</td>\n",
       "    </tr>\n",
       "    <tr>\n",
       "      <th>PWR</th>\n",
       "      <td>0.061907</td>\n",
       "    </tr>\n",
       "    <tr>\n",
       "      <th>RLI</th>\n",
       "      <td>0.036290</td>\n",
       "    </tr>\n",
       "    <tr>\n",
       "      <th>ABT</th>\n",
       "      <td>0.036190</td>\n",
       "    </tr>\n",
       "    <tr>\n",
       "      <th>WK</th>\n",
       "      <td>0.033117</td>\n",
       "    </tr>\n",
       "    <tr>\n",
       "      <th>ETSY.O</th>\n",
       "      <td>0.024484</td>\n",
       "    </tr>\n",
       "    <tr>\n",
       "      <th>RGEN.O</th>\n",
       "      <td>0.019493</td>\n",
       "    </tr>\n",
       "  </tbody>\n",
       "</table>\n",
       "</div>"
      ],
      "text/plain": [
       "          Weight\n",
       "CHK.O   0.271608\n",
       "OTIS.K  0.219058\n",
       "BAH     0.105264\n",
       "PGR     0.103398\n",
       "CTVA.K  0.089192\n",
       "PWR     0.061907\n",
       "RLI     0.036290\n",
       "ABT     0.036190\n",
       "WK      0.033117\n",
       "ETSY.O  0.024484\n",
       "RGEN.O  0.019493"
      ]
     },
     "execution_count": 46,
     "metadata": {},
     "output_type": "execute_result"
    }
   ],
   "source": [
    "tangency_weights = pd.DataFrame.from_dict(weights, orient='index', columns=['Weight'])\n",
    "tangency_weights[tangency_weights['Weight']>0].sort_values(by='Weight', ascending=False)"
   ]
  },
  {
   "cell_type": "code",
   "execution_count": 47,
   "metadata": {},
   "outputs": [],
   "source": [
    "tangency_returns = (tangency_weights.T.values*df_sample).sum(axis=1)"
   ]
  },
  {
   "cell_type": "code",
   "execution_count": 48,
   "metadata": {},
   "outputs": [],
   "source": [
    "mu_tangency_monthly = tangency_returns.mean()\n",
    "mu_tangency_annual = (1+mu_tangency_monthly)**12-1\n",
    "\n",
    "sigma_sq_tangency = tangency_returns.var(ddof=1)\n",
    "sigma_tangency_monthly = tangency_returns.std(ddof=1)\n",
    "sigma_tangency_annual = sigma_tangency_monthly*np.sqrt(12)\n",
    "\n",
    "sr_tangency = mu_tangency_annual/sigma_tangency_annual\n",
    "\n",
    "num_inv_tangency = np.sum(tangency_weights.values>0)\n",
    "num_sectors_tangency = df_sector.merge(tangency_weights.loc[tangency_weights['Weight']>0], \n",
    "                                        left_on='Instrument', right_index=True)['TRBC Economic Sector Name'].nunique()"
   ]
  },
  {
   "cell_type": "code",
   "execution_count": 49,
   "metadata": {},
   "outputs": [],
   "source": [
    "tangency_emissions = (tangency_weights['Weight'].values*df_emission_scores.drop(columns=['RIC']).T).sum(1)"
   ]
  },
  {
   "cell_type": "code",
   "execution_count": 50,
   "metadata": {},
   "outputs": [
    {
     "data": {
      "text/plain": [
       "Carbon Intensity              56.885315\n",
       "ESG Score                     61.358715\n",
       "Social Pillar Score           63.776742\n",
       "Environmental Pillar Score    41.449690\n",
       "Governance Pillar Score       72.547599\n",
       "dtype: float64"
      ]
     },
     "execution_count": 50,
     "metadata": {},
     "output_type": "execute_result"
    }
   ],
   "source": [
    "tangency_emissions"
   ]
  },
  {
   "attachments": {},
   "cell_type": "markdown",
   "metadata": {},
   "source": [
    "#### Constrained Portfolio - 10% Reduced Emissions"
   ]
  },
  {
   "cell_type": "code",
   "execution_count": 51,
   "metadata": {},
   "outputs": [],
   "source": [
    "# Define constraints\n",
    "def TE(w, portfolio_returns, benchmark_returns):\n",
    "    xi= (w @ portfolio_returns.T - benchmark_returns.values.reshape(-1))\n",
    "    mean = cp.sum(xi)/len(benchmark_returns)\n",
    "    return cp.sum_squares(xi- mean)\n",
    "\n",
    "def CI(w, portfolio_intensity):\n",
    "    xi = w @ portfolio_intensity.T\n",
    "    carbon_intensity = cp.sum(xi)\n",
    "    return carbon_intensity"
   ]
  },
  {
   "cell_type": "code",
   "execution_count": 76,
   "metadata": {},
   "outputs": [],
   "source": [
    "ef_constrained1 = EfficientFrontier(mu, S, weight_bounds=(0, 1))\n",
    "\n",
    "ef_constrained1.add_constraint(lambda w: TE(w, df_sample, benchmark_returns) <= 0.1**2)\n",
    "ef_constrained1.add_constraint(lambda w: CI(w, df_emission_scores['Carbon Intensity']) <= 0.9*benchmark_emissions)\n",
    "weights = ef_constrained1.convex_objective(TE, portfolio_returns=df_sample, benchmark_returns=benchmark_returns)"
   ]
  },
  {
   "cell_type": "code",
   "execution_count": 83,
   "metadata": {},
   "outputs": [
    {
     "data": {
      "text/html": [
       "<div>\n",
       "<style scoped>\n",
       "    .dataframe tbody tr th:only-of-type {\n",
       "        vertical-align: middle;\n",
       "    }\n",
       "\n",
       "    .dataframe tbody tr th {\n",
       "        vertical-align: top;\n",
       "    }\n",
       "\n",
       "    .dataframe thead th {\n",
       "        text-align: right;\n",
       "    }\n",
       "</style>\n",
       "<table border=\"1\" class=\"dataframe\">\n",
       "  <thead>\n",
       "    <tr style=\"text-align: right;\">\n",
       "      <th></th>\n",
       "      <th>Weight</th>\n",
       "    </tr>\n",
       "  </thead>\n",
       "  <tbody>\n",
       "    <tr>\n",
       "      <th>WMT</th>\n",
       "      <td>0.150205</td>\n",
       "    </tr>\n",
       "    <tr>\n",
       "      <th>ACN</th>\n",
       "      <td>0.086685</td>\n",
       "    </tr>\n",
       "    <tr>\n",
       "      <th>ABT</th>\n",
       "      <td>0.067828</td>\n",
       "    </tr>\n",
       "    <tr>\n",
       "      <th>ADBE.O</th>\n",
       "      <td>0.064399</td>\n",
       "    </tr>\n",
       "    <tr>\n",
       "      <th>QCOM.O</th>\n",
       "      <td>0.048857</td>\n",
       "    </tr>\n",
       "    <tr>\n",
       "      <th>...</th>\n",
       "      <td>...</td>\n",
       "    </tr>\n",
       "    <tr>\n",
       "      <th>INFN.O</th>\n",
       "      <td>0.000548</td>\n",
       "    </tr>\n",
       "    <tr>\n",
       "      <th>GOGL.O</th>\n",
       "      <td>0.000533</td>\n",
       "    </tr>\n",
       "    <tr>\n",
       "      <th>TPIC.O</th>\n",
       "      <td>0.000437</td>\n",
       "    </tr>\n",
       "    <tr>\n",
       "      <th>BOOM.O</th>\n",
       "      <td>0.000366</td>\n",
       "    </tr>\n",
       "    <tr>\n",
       "      <th>CDE</th>\n",
       "      <td>0.000338</td>\n",
       "    </tr>\n",
       "  </tbody>\n",
       "</table>\n",
       "<p>100 rows × 1 columns</p>\n",
       "</div>"
      ],
      "text/plain": [
       "          Weight\n",
       "WMT     0.150205\n",
       "ACN     0.086685\n",
       "ABT     0.067828\n",
       "ADBE.O  0.064399\n",
       "QCOM.O  0.048857\n",
       "...          ...\n",
       "INFN.O  0.000548\n",
       "GOGL.O  0.000533\n",
       "TPIC.O  0.000437\n",
       "BOOM.O  0.000366\n",
       "CDE     0.000338\n",
       "\n",
       "[100 rows x 1 columns]"
      ]
     },
     "execution_count": 83,
     "metadata": {},
     "output_type": "execute_result"
    }
   ],
   "source": [
    "constrained1_weights = pd.DataFrame.from_dict(weights, orient='index', columns=['Weight'])\n",
    "constrained1_weights[constrained1_weights['Weight']>0].sort_values(by='Weight', ascending=False)"
   ]
  },
  {
   "cell_type": "code",
   "execution_count": 78,
   "metadata": {},
   "outputs": [],
   "source": [
    "constrained1_returns = (constrained1_weights.T.values*df_sample).sum(axis=1)"
   ]
  },
  {
   "cell_type": "code",
   "execution_count": 84,
   "metadata": {},
   "outputs": [],
   "source": [
    "mu_constrained1_monthly = constrained1_returns.mean()\n",
    "mu_constrained1_annual = (1+mu_constrained1_monthly)**12-1\n",
    "\n",
    "sigma_sq_constrained1 = constrained1_returns.var(ddof=1)\n",
    "sigma_constrained1_monthly = constrained1_returns.std(ddof=1)\n",
    "sigma_constrained1_annual = sigma_constrained1_monthly*np.sqrt(12)\n",
    "\n",
    "sr_constrained1 = mu_constrained1_annual/sigma_constrained1_annual\n",
    "\n",
    "num_inv_constrained1 = np.sum(constrained1_weights.values>10**-4)\n",
    "num_sectors_constrained1 = df_sector.merge(constrained1_weights.loc[constrained1_weights['Weight']>10**-4], \n",
    "                                        left_on='Instrument', right_index=True)['TRBC Economic Sector Name'].nunique()"
   ]
  },
  {
   "cell_type": "code",
   "execution_count": 85,
   "metadata": {},
   "outputs": [],
   "source": [
    "constrained1_emissions = (constrained1_weights['Weight'].values*df_emission_scores.drop(columns=['RIC']).T).sum(1)"
   ]
  },
  {
   "attachments": {},
   "cell_type": "markdown",
   "metadata": {},
   "source": [
    "#### Constrained Portfolio - 20% Carbon Intensity Reduction"
   ]
  },
  {
   "cell_type": "code",
   "execution_count": 70,
   "metadata": {},
   "outputs": [],
   "source": [
    "ef_constrained2 = EfficientFrontier(mu, S, weight_bounds=(0, 1))\n",
    "\n",
    "ef_constrained2.add_constraint(lambda w: TE(w, df_sample, benchmark_returns) <= 0.1**2)\n",
    "ef_constrained2.add_constraint(lambda w: CI(w, df_emission_scores['Carbon Intensity']) <= 0.8*benchmark_emissions)\n",
    "weights = ef_constrained2.convex_objective(TE, portfolio_returns=df_sample, benchmark_returns=benchmark_returns)"
   ]
  },
  {
   "cell_type": "code",
   "execution_count": 71,
   "metadata": {},
   "outputs": [
    {
     "data": {
      "text/html": [
       "<div>\n",
       "<style scoped>\n",
       "    .dataframe tbody tr th:only-of-type {\n",
       "        vertical-align: middle;\n",
       "    }\n",
       "\n",
       "    .dataframe tbody tr th {\n",
       "        vertical-align: top;\n",
       "    }\n",
       "\n",
       "    .dataframe thead th {\n",
       "        text-align: right;\n",
       "    }\n",
       "</style>\n",
       "<table border=\"1\" class=\"dataframe\">\n",
       "  <thead>\n",
       "    <tr style=\"text-align: right;\">\n",
       "      <th></th>\n",
       "      <th>Weight</th>\n",
       "    </tr>\n",
       "  </thead>\n",
       "  <tbody>\n",
       "    <tr>\n",
       "      <th>WMT</th>\n",
       "      <td>0.153755</td>\n",
       "    </tr>\n",
       "    <tr>\n",
       "      <th>ACN</th>\n",
       "      <td>0.088461</td>\n",
       "    </tr>\n",
       "    <tr>\n",
       "      <th>ABT</th>\n",
       "      <td>0.067916</td>\n",
       "    </tr>\n",
       "    <tr>\n",
       "      <th>ADBE.O</th>\n",
       "      <td>0.064073</td>\n",
       "    </tr>\n",
       "    <tr>\n",
       "      <th>QCOM.O</th>\n",
       "      <td>0.048141</td>\n",
       "    </tr>\n",
       "    <tr>\n",
       "      <th>...</th>\n",
       "      <td>...</td>\n",
       "    </tr>\n",
       "    <tr>\n",
       "      <th>TPIC.O</th>\n",
       "      <td>0.000362</td>\n",
       "    </tr>\n",
       "    <tr>\n",
       "      <th>INFN.O</th>\n",
       "      <td>0.000362</td>\n",
       "    </tr>\n",
       "    <tr>\n",
       "      <th>BOOM.O</th>\n",
       "      <td>0.000335</td>\n",
       "    </tr>\n",
       "    <tr>\n",
       "      <th>GOGL.O</th>\n",
       "      <td>0.000297</td>\n",
       "    </tr>\n",
       "    <tr>\n",
       "      <th>CDE</th>\n",
       "      <td>0.000271</td>\n",
       "    </tr>\n",
       "  </tbody>\n",
       "</table>\n",
       "<p>100 rows × 1 columns</p>\n",
       "</div>"
      ],
      "text/plain": [
       "          Weight\n",
       "WMT     0.153755\n",
       "ACN     0.088461\n",
       "ABT     0.067916\n",
       "ADBE.O  0.064073\n",
       "QCOM.O  0.048141\n",
       "...          ...\n",
       "TPIC.O  0.000362\n",
       "INFN.O  0.000362\n",
       "BOOM.O  0.000335\n",
       "GOGL.O  0.000297\n",
       "CDE     0.000271\n",
       "\n",
       "[100 rows x 1 columns]"
      ]
     },
     "execution_count": 71,
     "metadata": {},
     "output_type": "execute_result"
    }
   ],
   "source": [
    "constrained2_weights = pd.DataFrame.from_dict(weights, orient='index', columns=['Weight'])\n",
    "constrained2_weights[constrained2_weights['Weight']>10**-6].sort_values(by='Weight', ascending=False)"
   ]
  },
  {
   "cell_type": "code",
   "execution_count": 72,
   "metadata": {},
   "outputs": [],
   "source": [
    "constrained2_returns = (constrained2_weights.T.values*df_sample).sum(axis=1)"
   ]
  },
  {
   "cell_type": "code",
   "execution_count": 73,
   "metadata": {},
   "outputs": [],
   "source": [
    "mu_constrained2_monthly = constrained2_returns.mean()\n",
    "mu_constrained2_annual = (1+mu_constrained2_monthly)**12-1\n",
    "\n",
    "sigma_sq_constrained2 =constrained2_returns.var(ddof=1)\n",
    "sigma_constrained2_monthly = constrained2_returns.std(ddof=1)\n",
    "sigma_constrained2_annual = sigma_constrained2_monthly*np.sqrt(12)\n",
    "\n",
    "sr_constrained2 = mu_constrained2_annual/sigma_constrained2_annual\n",
    "\n",
    "num_inv_constrained2 = np.sum(constrained2_weights.values>10**-6)\n",
    "num_sectors_constrained2 = df_sector.merge(constrained2_weights.loc[constrained2_weights['Weight']>10**-6], \n",
    "                                        left_on='Instrument', right_index=True)['TRBC Economic Sector Name'].nunique()"
   ]
  },
  {
   "cell_type": "code",
   "execution_count": 74,
   "metadata": {},
   "outputs": [],
   "source": [
    "constrained2_emissions = (constrained2_weights['Weight'].values*df_emission_scores.drop(columns=['RIC']).T).sum(1)"
   ]
  },
  {
   "attachments": {},
   "cell_type": "markdown",
   "metadata": {},
   "source": [
    "#### Constrained Portfolio - 50% Reduction in Carbon Intensity"
   ]
  },
  {
   "cell_type": "code",
   "execution_count": 86,
   "metadata": {},
   "outputs": [],
   "source": [
    "ef_constrained3 = EfficientFrontier(mu, S, weight_bounds=(0, 1))\n",
    "\n",
    "ef_constrained3.add_constraint(lambda w: TE(w, df_sample, benchmark_returns) <= 0.1**2)\n",
    "ef_constrained3.add_constraint(lambda w: CI(w, df_emission_scores['Carbon Intensity']) <= 0.5*benchmark_emissions)\n",
    "weights = ef_constrained3.convex_objective(TE, portfolio_returns=df_sample, benchmark_returns=benchmark_returns)"
   ]
  },
  {
   "cell_type": "code",
   "execution_count": 101,
   "metadata": {},
   "outputs": [
    {
     "data": {
      "text/html": [
       "<div>\n",
       "<style scoped>\n",
       "    .dataframe tbody tr th:only-of-type {\n",
       "        vertical-align: middle;\n",
       "    }\n",
       "\n",
       "    .dataframe tbody tr th {\n",
       "        vertical-align: top;\n",
       "    }\n",
       "\n",
       "    .dataframe thead th {\n",
       "        text-align: right;\n",
       "    }\n",
       "</style>\n",
       "<table border=\"1\" class=\"dataframe\">\n",
       "  <thead>\n",
       "    <tr style=\"text-align: right;\">\n",
       "      <th></th>\n",
       "      <th>Weight</th>\n",
       "    </tr>\n",
       "  </thead>\n",
       "  <tbody>\n",
       "    <tr>\n",
       "      <th>OTIS.K</th>\n",
       "      <td>0.229722</td>\n",
       "    </tr>\n",
       "    <tr>\n",
       "      <th>CHK.O</th>\n",
       "      <td>0.167951</td>\n",
       "    </tr>\n",
       "    <tr>\n",
       "      <th>PGR</th>\n",
       "      <td>0.140532</td>\n",
       "    </tr>\n",
       "    <tr>\n",
       "      <th>BAH</th>\n",
       "      <td>0.134186</td>\n",
       "    </tr>\n",
       "    <tr>\n",
       "      <th>RLI</th>\n",
       "      <td>0.073845</td>\n",
       "    </tr>\n",
       "    <tr>\n",
       "      <th>CTVA.K</th>\n",
       "      <td>0.065569</td>\n",
       "    </tr>\n",
       "    <tr>\n",
       "      <th>PWR</th>\n",
       "      <td>0.056048</td>\n",
       "    </tr>\n",
       "    <tr>\n",
       "      <th>RGEN.O</th>\n",
       "      <td>0.040936</td>\n",
       "    </tr>\n",
       "    <tr>\n",
       "      <th>ETSY.O</th>\n",
       "      <td>0.037909</td>\n",
       "    </tr>\n",
       "    <tr>\n",
       "      <th>WK</th>\n",
       "      <td>0.026605</td>\n",
       "    </tr>\n",
       "    <tr>\n",
       "      <th>ABT</th>\n",
       "      <td>0.018316</td>\n",
       "    </tr>\n",
       "    <tr>\n",
       "      <th>ELV</th>\n",
       "      <td>0.008381</td>\n",
       "    </tr>\n",
       "  </tbody>\n",
       "</table>\n",
       "</div>"
      ],
      "text/plain": [
       "          Weight\n",
       "OTIS.K  0.229722\n",
       "CHK.O   0.167951\n",
       "PGR     0.140532\n",
       "BAH     0.134186\n",
       "RLI     0.073845\n",
       "CTVA.K  0.065569\n",
       "PWR     0.056048\n",
       "RGEN.O  0.040936\n",
       "ETSY.O  0.037909\n",
       "WK      0.026605\n",
       "ABT     0.018316\n",
       "ELV     0.008381"
      ]
     },
     "execution_count": 101,
     "metadata": {},
     "output_type": "execute_result"
    }
   ],
   "source": [
    "constrained3_weights = pd.DataFrame.from_dict(weights, orient='index', columns=['Weight'])\n",
    "constrained3_weights[constrained3_weights['Weight']>10**-4].sort_values(by='Weight', ascending=False).head(15)"
   ]
  },
  {
   "cell_type": "code",
   "execution_count": 91,
   "metadata": {},
   "outputs": [],
   "source": [
    "constrained3_returns = (constrained3_weights.T.values*df_sample).sum(axis=1)\n",
    "\n",
    "mu_constrained3_monthly = constrained3_returns.mean()\n",
    "mu_constrained3_annual = (1+mu_constrained3_monthly)**12-1\n",
    "\n",
    "sigma_sq_constrained3 =constrained3_returns.var(ddof=1)\n",
    "sigma_constrained3_monthly = constrained3_returns.std(ddof=1)\n",
    "sigma_constrained3_annual = sigma_constrained3_monthly*np.sqrt(12)\n",
    "\n",
    "sr_constrained3 = mu_constrained3_annual/sigma_constrained3_annual\n",
    "\n",
    "num_inv_constrained3 = np.sum(constrained3_weights.values>10**-4)\n",
    "num_sectors_constrained3 = df_sector.merge(constrained3_weights.loc[constrained3_weights['Weight']>10**-4], \n",
    "                                        left_on='Instrument', right_index=True)['TRBC Economic Sector Name'].nunique()"
   ]
  },
  {
   "cell_type": "code",
   "execution_count": 93,
   "metadata": {},
   "outputs": [],
   "source": [
    "constrained3_emissions = (constrained3_weights['Weight'].values*df_emission_scores.drop(columns=['RIC']).T).sum(1)"
   ]
  },
  {
   "attachments": {},
   "cell_type": "markdown",
   "metadata": {},
   "source": [
    "#### Contrained Portfolio - Tangency Portfolio with 20% less Carbon Intensity"
   ]
  },
  {
   "cell_type": "code",
   "execution_count": 99,
   "metadata": {},
   "outputs": [],
   "source": [
    "ef_constrained4 = EfficientFrontier(mu, S, weight_bounds=(0, 1))\n",
    "\n",
    "ef_constrained4.add_constraint(lambda w: CI(w, df_emission_scores['Carbon Intensity']) <= 0.8*benchmark_emissions)\n",
    "weights = ef_constrained4.max_sharpe()"
   ]
  },
  {
   "cell_type": "code",
   "execution_count": 108,
   "metadata": {},
   "outputs": [
    {
     "data": {
      "text/html": [
       "<div>\n",
       "<style scoped>\n",
       "    .dataframe tbody tr th:only-of-type {\n",
       "        vertical-align: middle;\n",
       "    }\n",
       "\n",
       "    .dataframe tbody tr th {\n",
       "        vertical-align: top;\n",
       "    }\n",
       "\n",
       "    .dataframe thead th {\n",
       "        text-align: right;\n",
       "    }\n",
       "</style>\n",
       "<table border=\"1\" class=\"dataframe\">\n",
       "  <thead>\n",
       "    <tr style=\"text-align: right;\">\n",
       "      <th></th>\n",
       "      <th>Weight</th>\n",
       "    </tr>\n",
       "  </thead>\n",
       "  <tbody>\n",
       "    <tr>\n",
       "      <th>OTIS.K</th>\n",
       "      <td>0.229722</td>\n",
       "    </tr>\n",
       "    <tr>\n",
       "      <th>CHK.O</th>\n",
       "      <td>0.167951</td>\n",
       "    </tr>\n",
       "    <tr>\n",
       "      <th>PGR</th>\n",
       "      <td>0.140532</td>\n",
       "    </tr>\n",
       "    <tr>\n",
       "      <th>BAH</th>\n",
       "      <td>0.134186</td>\n",
       "    </tr>\n",
       "    <tr>\n",
       "      <th>RLI</th>\n",
       "      <td>0.073845</td>\n",
       "    </tr>\n",
       "    <tr>\n",
       "      <th>CTVA.K</th>\n",
       "      <td>0.065569</td>\n",
       "    </tr>\n",
       "    <tr>\n",
       "      <th>PWR</th>\n",
       "      <td>0.056048</td>\n",
       "    </tr>\n",
       "    <tr>\n",
       "      <th>RGEN.O</th>\n",
       "      <td>0.040936</td>\n",
       "    </tr>\n",
       "    <tr>\n",
       "      <th>ETSY.O</th>\n",
       "      <td>0.037909</td>\n",
       "    </tr>\n",
       "    <tr>\n",
       "      <th>WK</th>\n",
       "      <td>0.026605</td>\n",
       "    </tr>\n",
       "    <tr>\n",
       "      <th>ABT</th>\n",
       "      <td>0.018316</td>\n",
       "    </tr>\n",
       "    <tr>\n",
       "      <th>ELV</th>\n",
       "      <td>0.008381</td>\n",
       "    </tr>\n",
       "  </tbody>\n",
       "</table>\n",
       "</div>"
      ],
      "text/plain": [
       "          Weight\n",
       "OTIS.K  0.229722\n",
       "CHK.O   0.167951\n",
       "PGR     0.140532\n",
       "BAH     0.134186\n",
       "RLI     0.073845\n",
       "CTVA.K  0.065569\n",
       "PWR     0.056048\n",
       "RGEN.O  0.040936\n",
       "ETSY.O  0.037909\n",
       "WK      0.026605\n",
       "ABT     0.018316\n",
       "ELV     0.008381"
      ]
     },
     "execution_count": 108,
     "metadata": {},
     "output_type": "execute_result"
    }
   ],
   "source": [
    "constrained4_weights = pd.DataFrame.from_dict(weights, orient='index', columns=['Weight'])\n",
    "constrained4_weights[constrained4_weights['Weight']>10**-4].sort_values(by='Weight', ascending=False).head(15)"
   ]
  },
  {
   "cell_type": "code",
   "execution_count": 104,
   "metadata": {},
   "outputs": [],
   "source": [
    "constrained4_returns = (constrained4_weights.T.values*df_sample).sum(axis=1)\n",
    "\n",
    "mu_constrained4_monthly = constrained4_returns.mean()\n",
    "mu_constrained4_annual = (1+mu_constrained4_monthly)**12-1\n",
    "\n",
    "sigma_sq_constrained4 = constrained4_returns.var(ddof=1)\n",
    "sigma_constrained4_monthly = constrained4_returns.std(ddof=1)\n",
    "sigma_constrained4_annual = sigma_constrained4_monthly*np.sqrt(12)\n",
    "\n",
    "sr_constrained4 = mu_constrained4_annual/sigma_constrained4_annual\n",
    "\n",
    "num_inv_constrained4 = np.sum(constrained4_weights.values>10**-4)\n",
    "num_sectors_constrained4 = df_sector.merge(constrained4_weights.loc[constrained4_weights['Weight']>10**-4], \n",
    "                                        left_on='Instrument', right_index=True)['TRBC Economic Sector Name'].nunique()"
   ]
  }
 ],
 "metadata": {
  "kernelspec": {
   "display_name": "base",
   "language": "python",
   "name": "python3"
  },
  "language_info": {
   "codemirror_mode": {
    "name": "ipython",
    "version": 3
   },
   "file_extension": ".py",
   "mimetype": "text/x-python",
   "name": "python",
   "nbconvert_exporter": "python",
   "pygments_lexer": "ipython3",
   "version": "3.9.13"
  },
  "orig_nbformat": 4
 },
 "nbformat": 4,
 "nbformat_minor": 2
}
