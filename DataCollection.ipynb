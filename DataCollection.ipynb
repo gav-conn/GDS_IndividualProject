{
 "cells": [
  {
   "cell_type": "code",
   "execution_count": 1,
   "metadata": {},
   "outputs": [
    {
     "name": "stdout",
     "output_type": "stream",
     "text": [
      "(CVXPY) Jul 12 12:41:53 PM: Encountered unexpected exception importing solver GLOP:\n",
      "RuntimeError('Unrecognized new version of ortools (9.6.2534). Expected < 9.5.0.Please open a feature request on cvxpy to enable support for this version.')\n",
      "(CVXPY) Jul 12 12:41:53 PM: Encountered unexpected exception importing solver PDLP:\n",
      "RuntimeError('Unrecognized new version of ortools (9.6.2534). Expected < 9.5.0.Please open a feature request on cvxpy to enable support for this version.')\n"
     ]
    }
   ],
   "source": [
    "import eikon as ek\n",
    "import pandas as pd\n",
    "from sqlalchemy import create_engine"
   ]
  },
  {
   "cell_type": "code",
   "execution_count": 2,
   "metadata": {},
   "outputs": [],
   "source": [
    "with open('key.txt', 'r') as f:\n",
    "    ek.set_app_key(f.readline())"
   ]
  },
  {
   "cell_type": "code",
   "execution_count": 3,
   "metadata": {},
   "outputs": [],
   "source": [
    "engine = create_engine('sqlite:///GDS_IndividualProject.db', echo=False)"
   ]
  },
  {
   "cell_type": "code",
   "execution_count": 8,
   "metadata": {},
   "outputs": [],
   "source": [
    "df_tickers = pd.read_excel('GDS Russell 3000 as of May 2023.xlsx')"
   ]
  },
  {
   "cell_type": "code",
   "execution_count": 9,
   "metadata": {},
   "outputs": [],
   "source": [
    "# Convert ISIN to List\n",
    "isin_list = df_tickers['ISIN'].tolist()\n",
    "\n",
    "# Get Eikon identifiers\n",
    "df_ric = ek.get_symbology(isin_list, from_symbol_type='ISIN', to_symbol_type='RIC', best_match=True)\n",
    "\n",
    "df_ric.drop(columns=['error'], inplace=True)\n",
    "df_ric.reset_index(inplace=True)\n",
    "df_ric.rename(columns={'index': 'ISIN'}, inplace=True)"
   ]
  },
  {
   "cell_type": "code",
   "execution_count": 10,
   "metadata": {},
   "outputs": [],
   "source": [
    "# Merge with tickers data\n",
    "df_tickers = df_tickers.merge(df_ric, on='ISIN', how='left')"
   ]
  },
  {
   "cell_type": "code",
   "execution_count": 11,
   "metadata": {},
   "outputs": [],
   "source": [
    "# Drop privately held/delisted companies\n",
    "df_tickers.dropna(subset=['RIC'], inplace=True)"
   ]
  },
  {
   "cell_type": "code",
   "execution_count": 12,
   "metadata": {},
   "outputs": [
    {
     "ename": "ValueError",
     "evalue": "Table 'tickers' already exists.",
     "output_type": "error",
     "traceback": [
      "\u001b[1;31m---------------------------------------------------------------------------\u001b[0m",
      "\u001b[1;31mValueError\u001b[0m                                Traceback (most recent call last)",
      "\u001b[1;32m~\\AppData\\Local\\Temp\\ipykernel_22932\\1753535385.py\u001b[0m in \u001b[0;36m<module>\u001b[1;34m\u001b[0m\n\u001b[1;32m----> 1\u001b[1;33m \u001b[0mdf_tickers\u001b[0m\u001b[1;33m.\u001b[0m\u001b[0mto_sql\u001b[0m\u001b[1;33m(\u001b[0m\u001b[1;34m'tickers'\u001b[0m\u001b[1;33m,\u001b[0m \u001b[0mcon\u001b[0m\u001b[1;33m=\u001b[0m\u001b[0mengine\u001b[0m\u001b[1;33m,\u001b[0m \u001b[0mif_exists\u001b[0m\u001b[1;33m=\u001b[0m\u001b[1;34m'fail'\u001b[0m\u001b[1;33m,\u001b[0m \u001b[0mindex\u001b[0m\u001b[1;33m=\u001b[0m\u001b[1;32mFalse\u001b[0m\u001b[1;33m)\u001b[0m\u001b[1;33m\u001b[0m\u001b[1;33m\u001b[0m\u001b[0m\n\u001b[0m",
      "\u001b[1;32mc:\\Users\\Gavin\\anaconda3\\lib\\site-packages\\pandas\\core\\generic.py\u001b[0m in \u001b[0;36mto_sql\u001b[1;34m(self, name, con, schema, if_exists, index, index_label, chunksize, dtype, method)\u001b[0m\n\u001b[0;32m   2949\u001b[0m         \u001b[1;32mfrom\u001b[0m \u001b[0mpandas\u001b[0m\u001b[1;33m.\u001b[0m\u001b[0mio\u001b[0m \u001b[1;32mimport\u001b[0m \u001b[0msql\u001b[0m\u001b[1;33m\u001b[0m\u001b[1;33m\u001b[0m\u001b[0m\n\u001b[0;32m   2950\u001b[0m \u001b[1;33m\u001b[0m\u001b[0m\n\u001b[1;32m-> 2951\u001b[1;33m         return sql.to_sql(\n\u001b[0m\u001b[0;32m   2952\u001b[0m             \u001b[0mself\u001b[0m\u001b[1;33m,\u001b[0m\u001b[1;33m\u001b[0m\u001b[1;33m\u001b[0m\u001b[0m\n\u001b[0;32m   2953\u001b[0m             \u001b[0mname\u001b[0m\u001b[1;33m,\u001b[0m\u001b[1;33m\u001b[0m\u001b[1;33m\u001b[0m\u001b[0m\n",
      "\u001b[1;32mc:\\Users\\Gavin\\anaconda3\\lib\\site-packages\\pandas\\io\\sql.py\u001b[0m in \u001b[0;36mto_sql\u001b[1;34m(frame, name, con, schema, if_exists, index, index_label, chunksize, dtype, method, engine, **engine_kwargs)\u001b[0m\n\u001b[0;32m    696\u001b[0m         )\n\u001b[0;32m    697\u001b[0m \u001b[1;33m\u001b[0m\u001b[0m\n\u001b[1;32m--> 698\u001b[1;33m     return pandas_sql.to_sql(\n\u001b[0m\u001b[0;32m    699\u001b[0m         \u001b[0mframe\u001b[0m\u001b[1;33m,\u001b[0m\u001b[1;33m\u001b[0m\u001b[1;33m\u001b[0m\u001b[0m\n\u001b[0;32m    700\u001b[0m         \u001b[0mname\u001b[0m\u001b[1;33m,\u001b[0m\u001b[1;33m\u001b[0m\u001b[1;33m\u001b[0m\u001b[0m\n",
      "\u001b[1;32mc:\\Users\\Gavin\\anaconda3\\lib\\site-packages\\pandas\\io\\sql.py\u001b[0m in \u001b[0;36mto_sql\u001b[1;34m(self, frame, name, if_exists, index, index_label, schema, chunksize, dtype, method, engine, **engine_kwargs)\u001b[0m\n\u001b[0;32m   1730\u001b[0m         \u001b[0msql_engine\u001b[0m \u001b[1;33m=\u001b[0m \u001b[0mget_engine\u001b[0m\u001b[1;33m(\u001b[0m\u001b[0mengine\u001b[0m\u001b[1;33m)\u001b[0m\u001b[1;33m\u001b[0m\u001b[1;33m\u001b[0m\u001b[0m\n\u001b[0;32m   1731\u001b[0m \u001b[1;33m\u001b[0m\u001b[0m\n\u001b[1;32m-> 1732\u001b[1;33m         table = self.prep_table(\n\u001b[0m\u001b[0;32m   1733\u001b[0m             \u001b[0mframe\u001b[0m\u001b[1;33m=\u001b[0m\u001b[0mframe\u001b[0m\u001b[1;33m,\u001b[0m\u001b[1;33m\u001b[0m\u001b[1;33m\u001b[0m\u001b[0m\n\u001b[0;32m   1734\u001b[0m             \u001b[0mname\u001b[0m\u001b[1;33m=\u001b[0m\u001b[0mname\u001b[0m\u001b[1;33m,\u001b[0m\u001b[1;33m\u001b[0m\u001b[1;33m\u001b[0m\u001b[0m\n",
      "\u001b[1;32mc:\\Users\\Gavin\\anaconda3\\lib\\site-packages\\pandas\\io\\sql.py\u001b[0m in \u001b[0;36mprep_table\u001b[1;34m(self, frame, name, if_exists, index, index_label, schema, dtype)\u001b[0m\n\u001b[0;32m   1629\u001b[0m             \u001b[0mdtype\u001b[0m\u001b[1;33m=\u001b[0m\u001b[0mdtype\u001b[0m\u001b[1;33m,\u001b[0m\u001b[1;33m\u001b[0m\u001b[1;33m\u001b[0m\u001b[0m\n\u001b[0;32m   1630\u001b[0m         )\n\u001b[1;32m-> 1631\u001b[1;33m         \u001b[0mtable\u001b[0m\u001b[1;33m.\u001b[0m\u001b[0mcreate\u001b[0m\u001b[1;33m(\u001b[0m\u001b[1;33m)\u001b[0m\u001b[1;33m\u001b[0m\u001b[1;33m\u001b[0m\u001b[0m\n\u001b[0m\u001b[0;32m   1632\u001b[0m         \u001b[1;32mreturn\u001b[0m \u001b[0mtable\u001b[0m\u001b[1;33m\u001b[0m\u001b[1;33m\u001b[0m\u001b[0m\n\u001b[0;32m   1633\u001b[0m \u001b[1;33m\u001b[0m\u001b[0m\n",
      "\u001b[1;32mc:\\Users\\Gavin\\anaconda3\\lib\\site-packages\\pandas\\io\\sql.py\u001b[0m in \u001b[0;36mcreate\u001b[1;34m(self)\u001b[0m\n\u001b[0;32m    832\u001b[0m         \u001b[1;32mif\u001b[0m \u001b[0mself\u001b[0m\u001b[1;33m.\u001b[0m\u001b[0mexists\u001b[0m\u001b[1;33m(\u001b[0m\u001b[1;33m)\u001b[0m\u001b[1;33m:\u001b[0m\u001b[1;33m\u001b[0m\u001b[1;33m\u001b[0m\u001b[0m\n\u001b[0;32m    833\u001b[0m             \u001b[1;32mif\u001b[0m \u001b[0mself\u001b[0m\u001b[1;33m.\u001b[0m\u001b[0mif_exists\u001b[0m \u001b[1;33m==\u001b[0m \u001b[1;34m\"fail\"\u001b[0m\u001b[1;33m:\u001b[0m\u001b[1;33m\u001b[0m\u001b[1;33m\u001b[0m\u001b[0m\n\u001b[1;32m--> 834\u001b[1;33m                 \u001b[1;32mraise\u001b[0m \u001b[0mValueError\u001b[0m\u001b[1;33m(\u001b[0m\u001b[1;34mf\"Table '{self.name}' already exists.\"\u001b[0m\u001b[1;33m)\u001b[0m\u001b[1;33m\u001b[0m\u001b[1;33m\u001b[0m\u001b[0m\n\u001b[0m\u001b[0;32m    835\u001b[0m             \u001b[1;32melif\u001b[0m \u001b[0mself\u001b[0m\u001b[1;33m.\u001b[0m\u001b[0mif_exists\u001b[0m \u001b[1;33m==\u001b[0m \u001b[1;34m\"replace\"\u001b[0m\u001b[1;33m:\u001b[0m\u001b[1;33m\u001b[0m\u001b[1;33m\u001b[0m\u001b[0m\n\u001b[0;32m    836\u001b[0m                 \u001b[0mself\u001b[0m\u001b[1;33m.\u001b[0m\u001b[0mpd_sql\u001b[0m\u001b[1;33m.\u001b[0m\u001b[0mdrop_table\u001b[0m\u001b[1;33m(\u001b[0m\u001b[0mself\u001b[0m\u001b[1;33m.\u001b[0m\u001b[0mname\u001b[0m\u001b[1;33m,\u001b[0m \u001b[0mself\u001b[0m\u001b[1;33m.\u001b[0m\u001b[0mschema\u001b[0m\u001b[1;33m)\u001b[0m\u001b[1;33m\u001b[0m\u001b[1;33m\u001b[0m\u001b[0m\n",
      "\u001b[1;31mValueError\u001b[0m: Table 'tickers' already exists."
     ]
    }
   ],
   "source": [
    "df_tickers.to_sql('tickers', con=engine, if_exists='fail', index=False)"
   ]
  },
  {
   "cell_type": "code",
   "execution_count": 13,
   "metadata": {},
   "outputs": [
    {
     "name": "stderr",
     "output_type": "stream",
     "text": [
      "c:\\Users\\Gavin\\anaconda3\\lib\\site-packages\\pandas\\core\\dtypes\\cast.py:1422: RuntimeWarning: invalid value encountered in cast\n",
      "  if (arr.astype(int) == arr).all():\n",
      "c:\\Users\\Gavin\\anaconda3\\lib\\site-packages\\pandas\\core\\dtypes\\cast.py:1441: RuntimeWarning: invalid value encountered in cast\n",
      "  if (arr.astype(int) == arr).all():\n"
     ]
    }
   ],
   "source": [
    "df_intensity, err = ek.get_data(instruments=df_tickers['RIC'].tolist(), \n",
    "                      fields=['TR.CO2DirectScope1', 'TR.CO2IndirectScope2',  'TR.TotalRevenue'])\n",
    "\n",
    "df_intensity.dropna(inplace=True)"
   ]
  },
  {
   "cell_type": "code",
   "execution_count": 14,
   "metadata": {},
   "outputs": [
    {
     "data": {
      "text/html": [
       "<div>\n",
       "<style scoped>\n",
       "    .dataframe tbody tr th:only-of-type {\n",
       "        vertical-align: middle;\n",
       "    }\n",
       "\n",
       "    .dataframe tbody tr th {\n",
       "        vertical-align: top;\n",
       "    }\n",
       "\n",
       "    .dataframe thead th {\n",
       "        text-align: right;\n",
       "    }\n",
       "</style>\n",
       "<table border=\"1\" class=\"dataframe\">\n",
       "  <thead>\n",
       "    <tr style=\"text-align: right;\">\n",
       "      <th></th>\n",
       "      <th>Instrument</th>\n",
       "      <th>CO2 Equivalent Emissions Direct, Scope 1</th>\n",
       "      <th>CO2 Equivalent Emissions Indirect, Scope 2</th>\n",
       "      <th>Total Revenue</th>\n",
       "    </tr>\n",
       "  </thead>\n",
       "  <tbody>\n",
       "    <tr>\n",
       "      <th>0</th>\n",
       "      <td>AA</td>\n",
       "      <td>17400000.0</td>\n",
       "      <td>4400000.0</td>\n",
       "      <td>12451000000.0</td>\n",
       "    </tr>\n",
       "    <tr>\n",
       "      <th>2</th>\n",
       "      <td>AXP</td>\n",
       "      <td>17944.0</td>\n",
       "      <td>80275.0</td>\n",
       "      <td>54389000000.0</td>\n",
       "    </tr>\n",
       "    <tr>\n",
       "      <th>5</th>\n",
       "      <td>BA</td>\n",
       "      <td>612000.0</td>\n",
       "      <td>756000.0</td>\n",
       "      <td>66608000000.0</td>\n",
       "    </tr>\n",
       "    <tr>\n",
       "      <th>7</th>\n",
       "      <td>PEP.O</td>\n",
       "      <td>3596712.0</td>\n",
       "      <td>1811114.0</td>\n",
       "      <td>86392000000.0</td>\n",
       "    </tr>\n",
       "    <tr>\n",
       "      <th>8</th>\n",
       "      <td>CAT</td>\n",
       "      <td>740000.0</td>\n",
       "      <td>800000.0</td>\n",
       "      <td>59427000000.0</td>\n",
       "    </tr>\n",
       "    <tr>\n",
       "      <th>...</th>\n",
       "      <td>...</td>\n",
       "      <td>...</td>\n",
       "      <td>...</td>\n",
       "      <td>...</td>\n",
       "    </tr>\n",
       "    <tr>\n",
       "      <th>2862</th>\n",
       "      <td>IR</td>\n",
       "      <td>35999.0</td>\n",
       "      <td>58812.0</td>\n",
       "      <td>5916300000.0</td>\n",
       "    </tr>\n",
       "    <tr>\n",
       "      <th>2867</th>\n",
       "      <td>FANG.O</td>\n",
       "      <td>1252665.0</td>\n",
       "      <td>528224.0</td>\n",
       "      <td>9643000000.0</td>\n",
       "    </tr>\n",
       "    <tr>\n",
       "      <th>2869</th>\n",
       "      <td>DBX.O</td>\n",
       "      <td>1053.0</td>\n",
       "      <td>37106.0</td>\n",
       "      <td>2324900000.0</td>\n",
       "    </tr>\n",
       "    <tr>\n",
       "      <th>2877</th>\n",
       "      <td>TROX.K</td>\n",
       "      <td>2400000.0</td>\n",
       "      <td>2000000.0</td>\n",
       "      <td>3454000000.0</td>\n",
       "    </tr>\n",
       "    <tr>\n",
       "      <th>2890</th>\n",
       "      <td>USFD.K</td>\n",
       "      <td>591416.393</td>\n",
       "      <td>155365.829</td>\n",
       "      <td>34057000000.0</td>\n",
       "    </tr>\n",
       "  </tbody>\n",
       "</table>\n",
       "<p>1040 rows × 4 columns</p>\n",
       "</div>"
      ],
      "text/plain": [
       "     Instrument  CO2 Equivalent Emissions Direct, Scope 1  \\\n",
       "0            AA                                17400000.0   \n",
       "2           AXP                                   17944.0   \n",
       "5            BA                                  612000.0   \n",
       "7         PEP.O                                 3596712.0   \n",
       "8           CAT                                  740000.0   \n",
       "...         ...                                       ...   \n",
       "2862         IR                                   35999.0   \n",
       "2867     FANG.O                                 1252665.0   \n",
       "2869      DBX.O                                    1053.0   \n",
       "2877     TROX.K                                 2400000.0   \n",
       "2890     USFD.K                                591416.393   \n",
       "\n",
       "      CO2 Equivalent Emissions Indirect, Scope 2  Total Revenue  \n",
       "0                                      4400000.0  12451000000.0  \n",
       "2                                        80275.0  54389000000.0  \n",
       "5                                       756000.0  66608000000.0  \n",
       "7                                      1811114.0  86392000000.0  \n",
       "8                                       800000.0  59427000000.0  \n",
       "...                                          ...            ...  \n",
       "2862                                     58812.0   5916300000.0  \n",
       "2867                                    528224.0   9643000000.0  \n",
       "2869                                     37106.0   2324900000.0  \n",
       "2877                                   2000000.0   3454000000.0  \n",
       "2890                                  155365.829  34057000000.0  \n",
       "\n",
       "[1040 rows x 4 columns]"
      ]
     },
     "execution_count": 14,
     "metadata": {},
     "output_type": "execute_result"
    }
   ],
   "source": [
    "df_intensity"
   ]
  },
  {
   "cell_type": "code",
   "execution_count": 15,
   "metadata": {},
   "outputs": [],
   "source": [
    "df_intensity['Carbon Intensity'] = 1000000*(df_intensity['CO2 Equivalent Emissions Direct, Scope 1'] + df_intensity['CO2 Equivalent Emissions Indirect, Scope 2']) / df_intensity['Total Revenue']"
   ]
  },
  {
   "cell_type": "code",
   "execution_count": 23,
   "metadata": {},
   "outputs": [
    {
     "data": {
      "text/plain": [
       "1040"
      ]
     },
     "execution_count": 23,
     "metadata": {},
     "output_type": "execute_result"
    }
   ],
   "source": [
    "df_intensity.to_sql('emissions', con=engine, if_exists='fail', index=False)"
   ]
  },
  {
   "cell_type": "code",
   "execution_count": 18,
   "metadata": {},
   "outputs": [],
   "source": [
    "df_esg, err = ek.get_data(instruments=df_intensity['Instrument'].tolist(), fields=[\n",
    "    'TR.TRESGScore', 'TR.EnvironmentPillarScore', 'TR.SocialPillarScore', 'TR.GovernancePillarScore'])"
   ]
  },
  {
   "cell_type": "code",
   "execution_count": 25,
   "metadata": {},
   "outputs": [
    {
     "data": {
      "text/plain": [
       "1040"
      ]
     },
     "execution_count": 25,
     "metadata": {},
     "output_type": "execute_result"
    }
   ],
   "source": [
    "df_esg.to_sql('esg', con=engine, if_exists='fail', index=False)"
   ]
  },
  {
   "cell_type": "code",
   "execution_count": 20,
   "metadata": {},
   "outputs": [],
   "source": [
    "df_rets, err = ek.get_data(instruments=df_intensity['Instrument'].tolist(), \n",
    "                      fields=['TR.TotalReturn.Date', 'TR.TotalReturn'], \n",
    "                        parameters={'SDate': '2017-12-31', 'EDate': '2022-12-31', 'FRQ': 'M'})"
   ]
  },
  {
   "cell_type": "code",
   "execution_count": 21,
   "metadata": {},
   "outputs": [],
   "source": [
    "df_rets = df_rets.loc[df_rets['Date']!=''] # Remove rows with empty returns data (Due to not being listed at the time)\n",
    "df_rets['Total Return'] = df_rets['Total Return'].astype(float)\n",
    "df_rets.dropna(inplace=True)"
   ]
  },
  {
   "cell_type": "code",
   "execution_count": 28,
   "metadata": {},
   "outputs": [
    {
     "data": {
      "text/plain": [
       "61318"
      ]
     },
     "execution_count": 28,
     "metadata": {},
     "output_type": "execute_result"
    }
   ],
   "source": [
    "df_rets.to_sql('returns', con=engine, if_exists='fail', index=False)"
   ]
  },
  {
   "cell_type": "code",
   "execution_count": 29,
   "metadata": {},
   "outputs": [
    {
     "data": {
      "text/html": [
       "<div>\n",
       "<style scoped>\n",
       "    .dataframe tbody tr th:only-of-type {\n",
       "        vertical-align: middle;\n",
       "    }\n",
       "\n",
       "    .dataframe tbody tr th {\n",
       "        vertical-align: top;\n",
       "    }\n",
       "\n",
       "    .dataframe thead th {\n",
       "        text-align: right;\n",
       "    }\n",
       "</style>\n",
       "<table border=\"1\" class=\"dataframe\">\n",
       "  <thead>\n",
       "    <tr style=\"text-align: right;\">\n",
       "      <th>Instrument</th>\n",
       "      <th>ABM</th>\n",
       "      <th>ABT</th>\n",
       "      <th>ACN</th>\n",
       "      <th>ADBE.O</th>\n",
       "      <th>AFL</th>\n",
       "      <th>AKR</th>\n",
       "      <th>APTV.K</th>\n",
       "      <th>ATR</th>\n",
       "      <th>AWK</th>\n",
       "      <th>BAH</th>\n",
       "      <th>...</th>\n",
       "      <th>UAL.O</th>\n",
       "      <th>UDR</th>\n",
       "      <th>UE</th>\n",
       "      <th>UEC</th>\n",
       "      <th>USFD.K</th>\n",
       "      <th>WDAY.O</th>\n",
       "      <th>WK</th>\n",
       "      <th>WMT</th>\n",
       "      <th>ZBRA.O</th>\n",
       "      <th>ZS.O</th>\n",
       "    </tr>\n",
       "    <tr>\n",
       "      <th>Date</th>\n",
       "      <th></th>\n",
       "      <th></th>\n",
       "      <th></th>\n",
       "      <th></th>\n",
       "      <th></th>\n",
       "      <th></th>\n",
       "      <th></th>\n",
       "      <th></th>\n",
       "      <th></th>\n",
       "      <th></th>\n",
       "      <th></th>\n",
       "      <th></th>\n",
       "      <th></th>\n",
       "      <th></th>\n",
       "      <th></th>\n",
       "      <th></th>\n",
       "      <th></th>\n",
       "      <th></th>\n",
       "      <th></th>\n",
       "      <th></th>\n",
       "      <th></th>\n",
       "    </tr>\n",
       "  </thead>\n",
       "  <tbody>\n",
       "    <tr>\n",
       "      <th>2017-12</th>\n",
       "      <td>-0.118692</td>\n",
       "      <td>0.012418</td>\n",
       "      <td>0.034322</td>\n",
       "      <td>-0.034331</td>\n",
       "      <td>0.001597</td>\n",
       "      <td>-0.014312</td>\n",
       "      <td>-0.032394</td>\n",
       "      <td>-0.024092</td>\n",
       "      <td>-0.000765</td>\n",
       "      <td>-0.014474</td>\n",
       "      <td>...</td>\n",
       "      <td>0.064435</td>\n",
       "      <td>-0.020595</td>\n",
       "      <td>0.006341</td>\n",
       "      <td>0.330827</td>\n",
       "      <td>0.096497</td>\n",
       "      <td>-0.012233</td>\n",
       "      <td>-0.016092</td>\n",
       "      <td>0.020985</td>\n",
       "      <td>-0.059101</td>\n",
       "      <td>NaN</td>\n",
       "    </tr>\n",
       "    <tr>\n",
       "      <th>2018-01</th>\n",
       "      <td>0.012896</td>\n",
       "      <td>0.094362</td>\n",
       "      <td>0.049709</td>\n",
       "      <td>0.139922</td>\n",
       "      <td>0.004785</td>\n",
       "      <td>-0.102339</td>\n",
       "      <td>0.118472</td>\n",
       "      <td>0.016910</td>\n",
       "      <td>-0.090939</td>\n",
       "      <td>0.027537</td>\n",
       "      <td>...</td>\n",
       "      <td>0.006231</td>\n",
       "      <td>-0.043703</td>\n",
       "      <td>-0.082778</td>\n",
       "      <td>-0.112994</td>\n",
       "      <td>0.006264</td>\n",
       "      <td>0.178396</td>\n",
       "      <td>0.042056</td>\n",
       "      <td>0.079494</td>\n",
       "      <td>0.186513</td>\n",
       "      <td>NaN</td>\n",
       "    </tr>\n",
       "    <tr>\n",
       "      <th>2018-02</th>\n",
       "      <td>-0.075467</td>\n",
       "      <td>-0.029440</td>\n",
       "      <td>0.001929</td>\n",
       "      <td>0.046906</td>\n",
       "      <td>0.013603</td>\n",
       "      <td>-0.019544</td>\n",
       "      <td>-0.035168</td>\n",
       "      <td>0.022878</td>\n",
       "      <td>-0.040795</td>\n",
       "      <td>-0.026966</td>\n",
       "      <td>...</td>\n",
       "      <td>-0.000442</td>\n",
       "      <td>-0.079661</td>\n",
       "      <td>-0.076989</td>\n",
       "      <td>-0.171975</td>\n",
       "      <td>0.039216</td>\n",
       "      <td>0.056552</td>\n",
       "      <td>0.020179</td>\n",
       "      <td>-0.155629</td>\n",
       "      <td>0.121630</td>\n",
       "      <td>NaN</td>\n",
       "    </tr>\n",
       "    <tr>\n",
       "      <th>2018-03</th>\n",
       "      <td>-0.047782</td>\n",
       "      <td>-0.006796</td>\n",
       "      <td>-0.046643</td>\n",
       "      <td>0.033233</td>\n",
       "      <td>-0.015302</td>\n",
       "      <td>0.032721</td>\n",
       "      <td>-0.069638</td>\n",
       "      <td>0.004585</td>\n",
       "      <td>0.034904</td>\n",
       "      <td>0.020828</td>\n",
       "      <td>...</td>\n",
       "      <td>0.024782</td>\n",
       "      <td>0.059488</td>\n",
       "      <td>-0.000406</td>\n",
       "      <td>0.007692</td>\n",
       "      <td>-0.018568</td>\n",
       "      <td>0.003474</td>\n",
       "      <td>0.041758</td>\n",
       "      <td>-0.005708</td>\n",
       "      <td>0.007601</td>\n",
       "      <td>-0.149394</td>\n",
       "    </tr>\n",
       "    <tr>\n",
       "      <th>2018-04</th>\n",
       "      <td>-0.065316</td>\n",
       "      <td>-0.025256</td>\n",
       "      <td>-0.006156</td>\n",
       "      <td>0.025546</td>\n",
       "      <td>0.041362</td>\n",
       "      <td>-0.040650</td>\n",
       "      <td>-0.004590</td>\n",
       "      <td>0.040855</td>\n",
       "      <td>0.054182</td>\n",
       "      <td>0.023502</td>\n",
       "      <td>...</td>\n",
       "      <td>-0.027782</td>\n",
       "      <td>0.024045</td>\n",
       "      <td>-0.036534</td>\n",
       "      <td>0.152672</td>\n",
       "      <td>0.043027</td>\n",
       "      <td>-0.017859</td>\n",
       "      <td>-0.050633</td>\n",
       "      <td>-0.005732</td>\n",
       "      <td>-0.031324</td>\n",
       "      <td>0.064838</td>\n",
       "    </tr>\n",
       "    <tr>\n",
       "      <th>...</th>\n",
       "      <td>...</td>\n",
       "      <td>...</td>\n",
       "      <td>...</td>\n",
       "      <td>...</td>\n",
       "      <td>...</td>\n",
       "      <td>...</td>\n",
       "      <td>...</td>\n",
       "      <td>...</td>\n",
       "      <td>...</td>\n",
       "      <td>...</td>\n",
       "      <td>...</td>\n",
       "      <td>...</td>\n",
       "      <td>...</td>\n",
       "      <td>...</td>\n",
       "      <td>...</td>\n",
       "      <td>...</td>\n",
       "      <td>...</td>\n",
       "      <td>...</td>\n",
       "      <td>...</td>\n",
       "      <td>...</td>\n",
       "      <td>...</td>\n",
       "    </tr>\n",
       "    <tr>\n",
       "      <th>2022-08</th>\n",
       "      <td>0.034790</td>\n",
       "      <td>-0.056872</td>\n",
       "      <td>-0.058121</td>\n",
       "      <td>-0.089437</td>\n",
       "      <td>0.043733</td>\n",
       "      <td>-0.070053</td>\n",
       "      <td>-0.109257</td>\n",
       "      <td>-0.045935</td>\n",
       "      <td>-0.040937</td>\n",
       "      <td>0.001556</td>\n",
       "      <td>...</td>\n",
       "      <td>-0.047347</td>\n",
       "      <td>-0.072934</td>\n",
       "      <td>-0.042605</td>\n",
       "      <td>0.076190</td>\n",
       "      <td>-0.027937</td>\n",
       "      <td>0.060993</td>\n",
       "      <td>0.036489</td>\n",
       "      <td>0.008116</td>\n",
       "      <td>-0.156700</td>\n",
       "      <td>0.026957</td>\n",
       "    </tr>\n",
       "    <tr>\n",
       "      <th>2022-09</th>\n",
       "      <td>-0.176078</td>\n",
       "      <td>-0.057379</td>\n",
       "      <td>-0.108022</td>\n",
       "      <td>-0.263068</td>\n",
       "      <td>-0.054191</td>\n",
       "      <td>-0.196367</td>\n",
       "      <td>-0.162903</td>\n",
       "      <td>-0.075674</td>\n",
       "      <td>-0.123206</td>\n",
       "      <td>-0.035005</td>\n",
       "      <td>...</td>\n",
       "      <td>-0.070837</td>\n",
       "      <td>-0.070426</td>\n",
       "      <td>-0.143179</td>\n",
       "      <td>-0.225664</td>\n",
       "      <td>-0.136512</td>\n",
       "      <td>-0.074988</td>\n",
       "      <td>0.145971</td>\n",
       "      <td>-0.021501</td>\n",
       "      <td>-0.131382</td>\n",
       "      <td>0.032216</td>\n",
       "    </tr>\n",
       "    <tr>\n",
       "      <th>2022-10</th>\n",
       "      <td>0.169720</td>\n",
       "      <td>0.027220</td>\n",
       "      <td>0.108323</td>\n",
       "      <td>0.157340</td>\n",
       "      <td>0.158541</td>\n",
       "      <td>0.106973</td>\n",
       "      <td>0.164429</td>\n",
       "      <td>0.047351</td>\n",
       "      <td>0.116626</td>\n",
       "      <td>0.178668</td>\n",
       "      <td>...</td>\n",
       "      <td>0.324316</td>\n",
       "      <td>-0.037229</td>\n",
       "      <td>0.058471</td>\n",
       "      <td>0.202857</td>\n",
       "      <td>0.125567</td>\n",
       "      <td>0.023650</td>\n",
       "      <td>0.000129</td>\n",
       "      <td>0.097379</td>\n",
       "      <td>0.080951</td>\n",
       "      <td>-0.062481</td>\n",
       "    </tr>\n",
       "    <tr>\n",
       "      <th>2022-11</th>\n",
       "      <td>0.059987</td>\n",
       "      <td>0.087326</td>\n",
       "      <td>0.059986</td>\n",
       "      <td>0.082983</td>\n",
       "      <td>0.111038</td>\n",
       "      <td>0.100931</td>\n",
       "      <td>0.171297</td>\n",
       "      <td>0.070499</td>\n",
       "      <td>0.049127</td>\n",
       "      <td>-0.018518</td>\n",
       "      <td>...</td>\n",
       "      <td>0.025302</td>\n",
       "      <td>0.043008</td>\n",
       "      <td>0.114023</td>\n",
       "      <td>-0.078385</td>\n",
       "      <td>0.229167</td>\n",
       "      <td>0.077525</td>\n",
       "      <td>0.035343</td>\n",
       "      <td>0.070892</td>\n",
       "      <td>-0.045689</td>\n",
       "      <td>-0.134004</td>\n",
       "    </tr>\n",
       "    <tr>\n",
       "      <th>2022-12</th>\n",
       "      <td>-0.058499</td>\n",
       "      <td>0.020543</td>\n",
       "      <td>-0.113282</td>\n",
       "      <td>-0.024353</td>\n",
       "      <td>0.000139</td>\n",
       "      <td>-0.055267</td>\n",
       "      <td>-0.126934</td>\n",
       "      <td>0.036179</td>\n",
       "      <td>0.004349</td>\n",
       "      <td>-0.017669</td>\n",
       "      <td>...</td>\n",
       "      <td>-0.146480</td>\n",
       "      <td>-0.066072</td>\n",
       "      <td>-0.094849</td>\n",
       "      <td>0.000000</td>\n",
       "      <td>-0.069984</td>\n",
       "      <td>-0.003395</td>\n",
       "      <td>0.042329</td>\n",
       "      <td>-0.066240</td>\n",
       "      <td>-0.051317</td>\n",
       "      <td>-0.161484</td>\n",
       "    </tr>\n",
       "  </tbody>\n",
       "</table>\n",
       "<p>61 rows × 100 columns</p>\n",
       "</div>"
      ],
      "text/plain": [
       "Instrument    ABM       ABT       ACN       ADBE.O    AFL       AKR     \\\n",
       "Date                                                                     \n",
       "2017-12    -0.118692  0.012418  0.034322 -0.034331  0.001597 -0.014312   \n",
       "2018-01     0.012896  0.094362  0.049709  0.139922  0.004785 -0.102339   \n",
       "2018-02    -0.075467 -0.029440  0.001929  0.046906  0.013603 -0.019544   \n",
       "2018-03    -0.047782 -0.006796 -0.046643  0.033233 -0.015302  0.032721   \n",
       "2018-04    -0.065316 -0.025256 -0.006156  0.025546  0.041362 -0.040650   \n",
       "...              ...       ...       ...       ...       ...       ...   \n",
       "2022-08     0.034790 -0.056872 -0.058121 -0.089437  0.043733 -0.070053   \n",
       "2022-09    -0.176078 -0.057379 -0.108022 -0.263068 -0.054191 -0.196367   \n",
       "2022-10     0.169720  0.027220  0.108323  0.157340  0.158541  0.106973   \n",
       "2022-11     0.059987  0.087326  0.059986  0.082983  0.111038  0.100931   \n",
       "2022-12    -0.058499  0.020543 -0.113282 -0.024353  0.000139 -0.055267   \n",
       "\n",
       "Instrument    APTV.K    ATR       AWK       BAH     ...    UAL.O     UDR     \\\n",
       "Date                                                ...                       \n",
       "2017-12    -0.032394 -0.024092 -0.000765 -0.014474  ...  0.064435 -0.020595   \n",
       "2018-01     0.118472  0.016910 -0.090939  0.027537  ...  0.006231 -0.043703   \n",
       "2018-02    -0.035168  0.022878 -0.040795 -0.026966  ... -0.000442 -0.079661   \n",
       "2018-03    -0.069638  0.004585  0.034904  0.020828  ...  0.024782  0.059488   \n",
       "2018-04    -0.004590  0.040855  0.054182  0.023502  ... -0.027782  0.024045   \n",
       "...              ...       ...       ...       ...  ...       ...       ...   \n",
       "2022-08    -0.109257 -0.045935 -0.040937  0.001556  ... -0.047347 -0.072934   \n",
       "2022-09    -0.162903 -0.075674 -0.123206 -0.035005  ... -0.070837 -0.070426   \n",
       "2022-10     0.164429  0.047351  0.116626  0.178668  ...  0.324316 -0.037229   \n",
       "2022-11     0.171297  0.070499  0.049127 -0.018518  ...  0.025302  0.043008   \n",
       "2022-12    -0.126934  0.036179  0.004349 -0.017669  ... -0.146480 -0.066072   \n",
       "\n",
       "Instrument    UE        UEC       USFD.K    WDAY.O    WK        WMT     \\\n",
       "Date                                                                     \n",
       "2017-12     0.006341  0.330827  0.096497 -0.012233 -0.016092  0.020985   \n",
       "2018-01    -0.082778 -0.112994  0.006264  0.178396  0.042056  0.079494   \n",
       "2018-02    -0.076989 -0.171975  0.039216  0.056552  0.020179 -0.155629   \n",
       "2018-03    -0.000406  0.007692 -0.018568  0.003474  0.041758 -0.005708   \n",
       "2018-04    -0.036534  0.152672  0.043027 -0.017859 -0.050633 -0.005732   \n",
       "...              ...       ...       ...       ...       ...       ...   \n",
       "2022-08    -0.042605  0.076190 -0.027937  0.060993  0.036489  0.008116   \n",
       "2022-09    -0.143179 -0.225664 -0.136512 -0.074988  0.145971 -0.021501   \n",
       "2022-10     0.058471  0.202857  0.125567  0.023650  0.000129  0.097379   \n",
       "2022-11     0.114023 -0.078385  0.229167  0.077525  0.035343  0.070892   \n",
       "2022-12    -0.094849  0.000000 -0.069984 -0.003395  0.042329 -0.066240   \n",
       "\n",
       "Instrument    ZBRA.O    ZS.O    \n",
       "Date                            \n",
       "2017-12    -0.059101       NaN  \n",
       "2018-01     0.186513       NaN  \n",
       "2018-02     0.121630       NaN  \n",
       "2018-03     0.007601 -0.149394  \n",
       "2018-04    -0.031324  0.064838  \n",
       "...              ...       ...  \n",
       "2022-08    -0.156700  0.026957  \n",
       "2022-09    -0.131382  0.032216  \n",
       "2022-10     0.080951 -0.062481  \n",
       "2022-11    -0.045689 -0.134004  \n",
       "2022-12    -0.051317 -0.161484  \n",
       "\n",
       "[61 rows x 100 columns]"
      ]
     },
     "execution_count": 29,
     "metadata": {},
     "output_type": "execute_result"
    }
   ],
   "source": [
    "random_RIC = pd.Series(df_rets['Instrument'].unique()).sample(100, random_state=42)\n",
    "\n",
    "df_sample = df_rets.loc[df_rets['Instrument'].isin(random_RIC)].reset_index(drop=True)\n",
    "df_sample['Date'] = pd.to_datetime(df_sample['Date'])\n",
    "df_sample['Date'] = df_sample['Date'].dt.strftime('%Y-%m')\n",
    "\n",
    "df_sample = df_sample.pivot(index='Date', columns='Instrument', values='Total Return')\n",
    "\n",
    "df_sample = df_sample/100\n",
    "df_sample"
   ]
  },
  {
   "cell_type": "code",
   "execution_count": 31,
   "metadata": {},
   "outputs": [],
   "source": [
    "df_sector, err = ek.get_data(instruments=random_RIC.tolist(), fields=['TR.TRBCEconomicSector'])"
   ]
  },
  {
   "cell_type": "code",
   "execution_count": 38,
   "metadata": {},
   "outputs": [
    {
     "data": {
      "text/plain": [
       "100"
      ]
     },
     "execution_count": 38,
     "metadata": {},
     "output_type": "execute_result"
    }
   ],
   "source": [
    "df_sample.to_sql('sample', con=engine, if_exists='fail', index=True)\n",
    "df_sector.to_sql('sectors', con=engine, if_exists='fail', index=False)"
   ]
  },
  {
   "cell_type": "code",
   "execution_count": 22,
   "metadata": {},
   "outputs": [
    {
     "name": "stderr",
     "output_type": "stream",
     "text": [
      "c:\\Users\\Gavin\\anaconda3\\lib\\site-packages\\pandas\\core\\dtypes\\cast.py:1422: RuntimeWarning: invalid value encountered in cast\n",
      "  if (arr.astype(int) == arr).all():\n",
      "c:\\Users\\Gavin\\anaconda3\\lib\\site-packages\\pandas\\core\\dtypes\\cast.py:1441: RuntimeWarning: invalid value encountered in cast\n",
      "  if (arr.astype(int) == arr).all():\n"
     ]
    }
   ],
   "source": [
    "df_mkt_cap, err = ek.get_data(instruments=df_tickers['RIC'].tolist(), \n",
    "                              fields=['TR.CompanyMarketCap.Date', 'TR.CompanyMarketCap'],\n",
    "                              parameters={'SDate': '2017-12-31', 'EDate': '2022-12-31', 'FRQ': 'M'})"
   ]
  },
  {
   "cell_type": "code",
   "execution_count": 11,
   "metadata": {},
   "outputs": [],
   "source": [
    "df_mkt_cap.fillna(method='ffill', inplace=True)\n",
    "df_mkt_cap['Date'] = pd.to_datetime(df_mkt_cap['Date'])\n",
    "df_mkt_cap['Date'] = df_mkt_cap['Date'].dt.strftime('%Y-%m')\n",
    "df_mkt_cap.dropna(inplace=True)\n",
    "\n",
    "df_mkt_cap = df_mkt_cap.pivot(index='Date', columns='Instrument', values='Company Market Cap')"
   ]
  },
  {
   "cell_type": "code",
   "execution_count": 13,
   "metadata": {},
   "outputs": [
    {
     "data": {
      "text/plain": [
       "61"
      ]
     },
     "execution_count": 13,
     "metadata": {},
     "output_type": "execute_result"
    }
   ],
   "source": [
    "df_mkt_cap.to_sql('market_cap', con=engine, if_exists='fail', index=True)"
   ]
  }
 ],
 "metadata": {
  "kernelspec": {
   "display_name": "base",
   "language": "python",
   "name": "python3"
  },
  "language_info": {
   "codemirror_mode": {
    "name": "ipython",
    "version": 3
   },
   "file_extension": ".py",
   "mimetype": "text/x-python",
   "name": "python",
   "nbconvert_exporter": "python",
   "pygments_lexer": "ipython3",
   "version": "3.9.13"
  },
  "orig_nbformat": 4
 },
 "nbformat": 4,
 "nbformat_minor": 2
}
